{
  "nbformat": 4,
  "nbformat_minor": 0,
  "metadata": {
    "colab": {
      "provenance": []
    },
    "kernelspec": {
      "name": "python3",
      "display_name": "Python 3"
    },
    "language_info": {
      "name": "python"
    },
    "accelerator": "GPU",
    "gpuClass": "standard"
  },
  "cells": [
    {
      "cell_type": "code",
      "execution_count": null,
      "metadata": {
        "colab": {
          "base_uri": "https://localhost:8080/",
          "height": 92
        },
        "id": "i7aRnJY2xKEw",
        "outputId": "327ebc1f-e535-4f00-89d9-0c672e605eb7"
      },
      "outputs": [
        {
          "output_type": "display_data",
          "data": {
            "text/plain": [
              "<IPython.core.display.HTML object>"
            ],
            "text/html": [
              "\n",
              "     <input type=\"file\" id=\"files-e66b00e8-8b2f-4fd1-88e2-2959fc39c774\" name=\"files[]\" multiple disabled\n",
              "        style=\"border:none\" />\n",
              "     <output id=\"result-e66b00e8-8b2f-4fd1-88e2-2959fc39c774\">\n",
              "      Upload widget is only available when the cell has been executed in the\n",
              "      current browser session. Please rerun this cell to enable.\n",
              "      </output>\n",
              "      <script>// Copyright 2017 Google LLC\n",
              "//\n",
              "// Licensed under the Apache License, Version 2.0 (the \"License\");\n",
              "// you may not use this file except in compliance with the License.\n",
              "// You may obtain a copy of the License at\n",
              "//\n",
              "//      http://www.apache.org/licenses/LICENSE-2.0\n",
              "//\n",
              "// Unless required by applicable law or agreed to in writing, software\n",
              "// distributed under the License is distributed on an \"AS IS\" BASIS,\n",
              "// WITHOUT WARRANTIES OR CONDITIONS OF ANY KIND, either express or implied.\n",
              "// See the License for the specific language governing permissions and\n",
              "// limitations under the License.\n",
              "\n",
              "/**\n",
              " * @fileoverview Helpers for google.colab Python module.\n",
              " */\n",
              "(function(scope) {\n",
              "function span(text, styleAttributes = {}) {\n",
              "  const element = document.createElement('span');\n",
              "  element.textContent = text;\n",
              "  for (const key of Object.keys(styleAttributes)) {\n",
              "    element.style[key] = styleAttributes[key];\n",
              "  }\n",
              "  return element;\n",
              "}\n",
              "\n",
              "// Max number of bytes which will be uploaded at a time.\n",
              "const MAX_PAYLOAD_SIZE = 100 * 1024;\n",
              "\n",
              "function _uploadFiles(inputId, outputId) {\n",
              "  const steps = uploadFilesStep(inputId, outputId);\n",
              "  const outputElement = document.getElementById(outputId);\n",
              "  // Cache steps on the outputElement to make it available for the next call\n",
              "  // to uploadFilesContinue from Python.\n",
              "  outputElement.steps = steps;\n",
              "\n",
              "  return _uploadFilesContinue(outputId);\n",
              "}\n",
              "\n",
              "// This is roughly an async generator (not supported in the browser yet),\n",
              "// where there are multiple asynchronous steps and the Python side is going\n",
              "// to poll for completion of each step.\n",
              "// This uses a Promise to block the python side on completion of each step,\n",
              "// then passes the result of the previous step as the input to the next step.\n",
              "function _uploadFilesContinue(outputId) {\n",
              "  const outputElement = document.getElementById(outputId);\n",
              "  const steps = outputElement.steps;\n",
              "\n",
              "  const next = steps.next(outputElement.lastPromiseValue);\n",
              "  return Promise.resolve(next.value.promise).then((value) => {\n",
              "    // Cache the last promise value to make it available to the next\n",
              "    // step of the generator.\n",
              "    outputElement.lastPromiseValue = value;\n",
              "    return next.value.response;\n",
              "  });\n",
              "}\n",
              "\n",
              "/**\n",
              " * Generator function which is called between each async step of the upload\n",
              " * process.\n",
              " * @param {string} inputId Element ID of the input file picker element.\n",
              " * @param {string} outputId Element ID of the output display.\n",
              " * @return {!Iterable<!Object>} Iterable of next steps.\n",
              " */\n",
              "function* uploadFilesStep(inputId, outputId) {\n",
              "  const inputElement = document.getElementById(inputId);\n",
              "  inputElement.disabled = false;\n",
              "\n",
              "  const outputElement = document.getElementById(outputId);\n",
              "  outputElement.innerHTML = '';\n",
              "\n",
              "  const pickedPromise = new Promise((resolve) => {\n",
              "    inputElement.addEventListener('change', (e) => {\n",
              "      resolve(e.target.files);\n",
              "    });\n",
              "  });\n",
              "\n",
              "  const cancel = document.createElement('button');\n",
              "  inputElement.parentElement.appendChild(cancel);\n",
              "  cancel.textContent = 'Cancel upload';\n",
              "  const cancelPromise = new Promise((resolve) => {\n",
              "    cancel.onclick = () => {\n",
              "      resolve(null);\n",
              "    };\n",
              "  });\n",
              "\n",
              "  // Wait for the user to pick the files.\n",
              "  const files = yield {\n",
              "    promise: Promise.race([pickedPromise, cancelPromise]),\n",
              "    response: {\n",
              "      action: 'starting',\n",
              "    }\n",
              "  };\n",
              "\n",
              "  cancel.remove();\n",
              "\n",
              "  // Disable the input element since further picks are not allowed.\n",
              "  inputElement.disabled = true;\n",
              "\n",
              "  if (!files) {\n",
              "    return {\n",
              "      response: {\n",
              "        action: 'complete',\n",
              "      }\n",
              "    };\n",
              "  }\n",
              "\n",
              "  for (const file of files) {\n",
              "    const li = document.createElement('li');\n",
              "    li.append(span(file.name, {fontWeight: 'bold'}));\n",
              "    li.append(span(\n",
              "        `(${file.type || 'n/a'}) - ${file.size} bytes, ` +\n",
              "        `last modified: ${\n",
              "            file.lastModifiedDate ? file.lastModifiedDate.toLocaleDateString() :\n",
              "                                    'n/a'} - `));\n",
              "    const percent = span('0% done');\n",
              "    li.appendChild(percent);\n",
              "\n",
              "    outputElement.appendChild(li);\n",
              "\n",
              "    const fileDataPromise = new Promise((resolve) => {\n",
              "      const reader = new FileReader();\n",
              "      reader.onload = (e) => {\n",
              "        resolve(e.target.result);\n",
              "      };\n",
              "      reader.readAsArrayBuffer(file);\n",
              "    });\n",
              "    // Wait for the data to be ready.\n",
              "    let fileData = yield {\n",
              "      promise: fileDataPromise,\n",
              "      response: {\n",
              "        action: 'continue',\n",
              "      }\n",
              "    };\n",
              "\n",
              "    // Use a chunked sending to avoid message size limits. See b/62115660.\n",
              "    let position = 0;\n",
              "    do {\n",
              "      const length = Math.min(fileData.byteLength - position, MAX_PAYLOAD_SIZE);\n",
              "      const chunk = new Uint8Array(fileData, position, length);\n",
              "      position += length;\n",
              "\n",
              "      const base64 = btoa(String.fromCharCode.apply(null, chunk));\n",
              "      yield {\n",
              "        response: {\n",
              "          action: 'append',\n",
              "          file: file.name,\n",
              "          data: base64,\n",
              "        },\n",
              "      };\n",
              "\n",
              "      let percentDone = fileData.byteLength === 0 ?\n",
              "          100 :\n",
              "          Math.round((position / fileData.byteLength) * 100);\n",
              "      percent.textContent = `${percentDone}% done`;\n",
              "\n",
              "    } while (position < fileData.byteLength);\n",
              "  }\n",
              "\n",
              "  // All done.\n",
              "  yield {\n",
              "    response: {\n",
              "      action: 'complete',\n",
              "    }\n",
              "  };\n",
              "}\n",
              "\n",
              "scope.google = scope.google || {};\n",
              "scope.google.colab = scope.google.colab || {};\n",
              "scope.google.colab._files = {\n",
              "  _uploadFiles,\n",
              "  _uploadFilesContinue,\n",
              "};\n",
              "})(self);\n",
              "</script> "
            ]
          },
          "metadata": {}
        },
        {
          "output_type": "stream",
          "name": "stdout",
          "text": [
            "Saving kaggle.json to kaggle.json\n"
          ]
        },
        {
          "output_type": "execute_result",
          "data": {
            "text/plain": [
              "{'kaggle.json': b'{\"username\":\"abszub\",\"key\":\"72c1a0ef3878b467e2bb825d66a1bc8e\"}'}"
            ]
          },
          "metadata": {},
          "execution_count": 1
        }
      ],
      "source": [
        "from google.colab import files\n",
        "files.upload()"
      ]
    },
    {
      "cell_type": "code",
      "source": [
        "!pip install -q kaggle\n",
        "!mkdir -p ~/.kaggle\n",
        "!cp kaggle.json ~/.kaggle/\n",
        "!ls ~/.kaggle\n",
        "!chmod 600 /root/.kaggle/kaggle.json\n",
        "!kaggle datasets download -d paultimothymooney/chest-xray-pneumonia"
      ],
      "metadata": {
        "id": "7KSRbSgDxqR8",
        "colab": {
          "base_uri": "https://localhost:8080/"
        },
        "outputId": "1842f202-a3e4-43ed-974e-c13cb2df61ef"
      },
      "execution_count": null,
      "outputs": [
        {
          "output_type": "stream",
          "name": "stdout",
          "text": [
            "kaggle.json\n",
            "Downloading chest-xray-pneumonia.zip to /content\n",
            "100% 2.29G/2.29G [01:04<00:00, 41.0MB/s]\n",
            "100% 2.29G/2.29G [01:04<00:00, 38.1MB/s]\n"
          ]
        }
      ]
    },
    {
      "cell_type": "code",
      "source": [
        "!unzip -q chest-xray-pneumonia.zip -d lol/"
      ],
      "metadata": {
        "id": "T2xRDoTxzQ35"
      },
      "execution_count": null,
      "outputs": []
    },
    {
      "cell_type": "code",
      "source": [
        "!pip install tensorflow_addons\n",
        "\n",
        "import pandas as pd       \n",
        "import numpy as np\n",
        "\n",
        "import matplotlib.pyplot as plt\n",
        "import seaborn as sns\n",
        "import plotly.offline as py\n",
        "py.init_notebook_mode(connected=True)\n",
        "import plotly.graph_objs as go\n",
        "import plotly.tools as tls\n",
        "import plotly.figure_factory as ff\n",
        "\n",
        "import tensorflow as tf\n",
        "from tensorflow import keras\n",
        "from keras.callbacks import ReduceLROnPlateau\n",
        "from keras.preprocessing.image import ImageDataGenerator\n",
        "\n",
        "from sklearn.model_selection import train_test_split\n",
        "from sklearn.metrics import classification_report,confusion_matrix\n",
        "from tensorflow_addons.metrics import F1Score\n",
        "from tensorflow.keras.layers import Input, Lambda, Dense, Flatten, Conv2D, MaxPooling2D\n",
        "from sklearn.model_selection import train_test_split\n",
        "from sklearn import metrics\n",
        "from sklearn.metrics import accuracy_score, classification_report, confusion_matrix\n",
        "\n",
        "\n",
        "import cv2\n",
        "\n",
        "import warnings\n",
        "warnings.filterwarnings('ignore')\n",
        "\n",
        "import random\n",
        "import os\n",
        "import glob\n",
        "from numpy.random import seed\n",
        "seed(42)\n",
        "\n",
        "random.seed(42)\n",
        "os.environ['PYTHONHASHSEED'] = str(42)\n",
        "os.environ['TF_DETERMINISTIC_OPS'] = '1'\n",
        "\n",
        "from tensorflow.random import set_seed\n",
        "set_seed(42)"
      ],
      "metadata": {
        "colab": {
          "base_uri": "https://localhost:8080/",
          "height": 106
        },
        "id": "4GKqRJrUoo1X",
        "outputId": "b2f94e55-1b29-4b6f-e5d6-ffbde7cb8858"
      },
      "execution_count": null,
      "outputs": [
        {
          "output_type": "stream",
          "name": "stdout",
          "text": [
            "Looking in indexes: https://pypi.org/simple, https://us-python.pkg.dev/colab-wheels/public/simple/\n",
            "Requirement already satisfied: tensorflow_addons in /usr/local/lib/python3.8/dist-packages (0.19.0)\n",
            "Requirement already satisfied: typeguard>=2.7 in /usr/local/lib/python3.8/dist-packages (from tensorflow_addons) (2.7.1)\n",
            "Requirement already satisfied: packaging in /usr/local/lib/python3.8/dist-packages (from tensorflow_addons) (21.3)\n",
            "Requirement already satisfied: pyparsing!=3.0.5,>=2.0.2 in /usr/local/lib/python3.8/dist-packages (from packaging->tensorflow_addons) (3.0.9)\n"
          ]
        },
        {
          "output_type": "display_data",
          "data": {
            "text/html": [
              "        <script type=\"text/javascript\">\n",
              "        window.PlotlyConfig = {MathJaxConfig: 'local'};\n",
              "        if (window.MathJax) {MathJax.Hub.Config({SVG: {font: \"STIX-Web\"}});}\n",
              "        if (typeof require !== 'undefined') {\n",
              "        require.undef(\"plotly\");\n",
              "        requirejs.config({\n",
              "            paths: {\n",
              "                'plotly': ['https://cdn.plot.ly/plotly-2.8.3.min']\n",
              "            }\n",
              "        });\n",
              "        require(['plotly'], function(Plotly) {\n",
              "            window._Plotly = Plotly;\n",
              "        });\n",
              "        }\n",
              "        </script>\n",
              "        "
            ]
          },
          "metadata": {}
        }
      ]
    },
    {
      "cell_type": "code",
      "source": [
        "test_NORMAL = glob.glob('/content/lol/chest_xray/chest_xray/test/NORMAL/*.jpeg')\n",
        "test_PNEUMONIA = glob.glob('/content/lol/chest_xray/chest_xray/test/PNEUMONIA/*.jpeg')\n",
        "train_NORMAL = glob.glob('/content/lol/chest_xray/chest_xray/train/NORMAL/*.jpeg')\n",
        "train_PNEUMONIA = glob.glob('/content/lol/chest_xray/chest_xray/train/PNEUMONIA/*.jpeg')\n",
        "val_NORMAL = glob.glob('/content/lol/chest_xray/chest_xray/val/NORMAL/*.jpeg')\n",
        "val_PNEUMONIA =glob.glob('/content/lol/chest_xray/chest_xray/val/PNEUMONIA/*.jpeg')\n",
        "\n",
        "print(f\"Test normal Set has: {len(test_NORMAL)} images\")\n",
        "print(f\"Test penumonia has: {len(test_PNEUMONIA)} images\")\n",
        "print(f\"Train normal Set has: {len(train_NORMAL)} images\")\n",
        "print(f\"Train pnemonia Set has: {len(train_PNEUMONIA)} images\")\n"
      ],
      "metadata": {
        "colab": {
          "base_uri": "https://localhost:8080/"
        },
        "id": "zolQDwcQwvEL",
        "outputId": "20d35fb2-3edc-4108-91f0-393f98bfc090"
      },
      "execution_count": null,
      "outputs": [
        {
          "output_type": "stream",
          "name": "stdout",
          "text": [
            "Test normal Set has: 234 images\n",
            "Test penumonia has: 390 images\n",
            "Train normal Set has: 1341 images\n",
            "Train pnemonia Set has: 3875 images\n"
          ]
        }
      ]
    },
    {
      "cell_type": "code",
      "source": [
        "train_list = [x for x in train_NORMAL]\n",
        "train_list.extend([x for x in train_PNEUMONIA])\n",
        "df_train = pd.DataFrame(np.concatenate([['Normal']*len(train_NORMAL) , ['Pneumonia']*len(train_PNEUMONIA)]), columns = ['class'])\n",
        "df_train['image'] = [x for x in train_list]\n",
        "\n",
        "test_list = [x for x in test_NORMAL]\n",
        "test_list.extend([x for x in test_PNEUMONIA])\n",
        "df_test = pd.DataFrame(np.concatenate([['Normal']*len(test_NORMAL) , ['Pneumonia']*len(test_PNEUMONIA)]), columns = ['class'])\n",
        "df_test['image'] = [x for x in test_list]\n",
        "\n",
        "val_list = [x for x in val_NORMAL]\n",
        "val_list.extend([x for x in val_PNEUMONIA])\n",
        "\n",
        "df_val = pd.DataFrame(np.concatenate([['Normal']*len(val_NORMAL) , ['Pneumonia']*len(val_PNEUMONIA)]), columns = ['class'])\n",
        "df_val['image'] = [x for x in val_list]\n",
        "\n",
        "\n"
      ],
      "metadata": {
        "id": "lYOOu2Qe7jQE"
      },
      "execution_count": null,
      "outputs": []
    },
    {
      "cell_type": "code",
      "source": [
        "df_train"
      ],
      "metadata": {
        "colab": {
          "base_uri": "https://localhost:8080/",
          "height": 424
        },
        "id": "4yk_5crI8AKo",
        "outputId": "b3cf6f01-941d-45d1-e97c-bdfec04a08be"
      },
      "execution_count": null,
      "outputs": [
        {
          "output_type": "execute_result",
          "data": {
            "text/plain": [
              "          class                                              image\n",
              "0        Normal  /content/lol/chest_xray/chest_xray/train/NORMA...\n",
              "1        Normal  /content/lol/chest_xray/chest_xray/train/NORMA...\n",
              "2        Normal  /content/lol/chest_xray/chest_xray/train/NORMA...\n",
              "3        Normal  /content/lol/chest_xray/chest_xray/train/NORMA...\n",
              "4        Normal  /content/lol/chest_xray/chest_xray/train/NORMA...\n",
              "...         ...                                                ...\n",
              "5211  Pneumonia  /content/lol/chest_xray/chest_xray/train/PNEUM...\n",
              "5212  Pneumonia  /content/lol/chest_xray/chest_xray/train/PNEUM...\n",
              "5213  Pneumonia  /content/lol/chest_xray/chest_xray/train/PNEUM...\n",
              "5214  Pneumonia  /content/lol/chest_xray/chest_xray/train/PNEUM...\n",
              "5215  Pneumonia  /content/lol/chest_xray/chest_xray/train/PNEUM...\n",
              "\n",
              "[5216 rows x 2 columns]"
            ],
            "text/html": [
              "\n",
              "  <div id=\"df-83b944fb-edd9-4bd0-9183-088e592d12bf\">\n",
              "    <div class=\"colab-df-container\">\n",
              "      <div>\n",
              "<style scoped>\n",
              "    .dataframe tbody tr th:only-of-type {\n",
              "        vertical-align: middle;\n",
              "    }\n",
              "\n",
              "    .dataframe tbody tr th {\n",
              "        vertical-align: top;\n",
              "    }\n",
              "\n",
              "    .dataframe thead th {\n",
              "        text-align: right;\n",
              "    }\n",
              "</style>\n",
              "<table border=\"1\" class=\"dataframe\">\n",
              "  <thead>\n",
              "    <tr style=\"text-align: right;\">\n",
              "      <th></th>\n",
              "      <th>class</th>\n",
              "      <th>image</th>\n",
              "    </tr>\n",
              "  </thead>\n",
              "  <tbody>\n",
              "    <tr>\n",
              "      <th>0</th>\n",
              "      <td>Normal</td>\n",
              "      <td>/content/lol/chest_xray/chest_xray/train/NORMA...</td>\n",
              "    </tr>\n",
              "    <tr>\n",
              "      <th>1</th>\n",
              "      <td>Normal</td>\n",
              "      <td>/content/lol/chest_xray/chest_xray/train/NORMA...</td>\n",
              "    </tr>\n",
              "    <tr>\n",
              "      <th>2</th>\n",
              "      <td>Normal</td>\n",
              "      <td>/content/lol/chest_xray/chest_xray/train/NORMA...</td>\n",
              "    </tr>\n",
              "    <tr>\n",
              "      <th>3</th>\n",
              "      <td>Normal</td>\n",
              "      <td>/content/lol/chest_xray/chest_xray/train/NORMA...</td>\n",
              "    </tr>\n",
              "    <tr>\n",
              "      <th>4</th>\n",
              "      <td>Normal</td>\n",
              "      <td>/content/lol/chest_xray/chest_xray/train/NORMA...</td>\n",
              "    </tr>\n",
              "    <tr>\n",
              "      <th>...</th>\n",
              "      <td>...</td>\n",
              "      <td>...</td>\n",
              "    </tr>\n",
              "    <tr>\n",
              "      <th>5211</th>\n",
              "      <td>Pneumonia</td>\n",
              "      <td>/content/lol/chest_xray/chest_xray/train/PNEUM...</td>\n",
              "    </tr>\n",
              "    <tr>\n",
              "      <th>5212</th>\n",
              "      <td>Pneumonia</td>\n",
              "      <td>/content/lol/chest_xray/chest_xray/train/PNEUM...</td>\n",
              "    </tr>\n",
              "    <tr>\n",
              "      <th>5213</th>\n",
              "      <td>Pneumonia</td>\n",
              "      <td>/content/lol/chest_xray/chest_xray/train/PNEUM...</td>\n",
              "    </tr>\n",
              "    <tr>\n",
              "      <th>5214</th>\n",
              "      <td>Pneumonia</td>\n",
              "      <td>/content/lol/chest_xray/chest_xray/train/PNEUM...</td>\n",
              "    </tr>\n",
              "    <tr>\n",
              "      <th>5215</th>\n",
              "      <td>Pneumonia</td>\n",
              "      <td>/content/lol/chest_xray/chest_xray/train/PNEUM...</td>\n",
              "    </tr>\n",
              "  </tbody>\n",
              "</table>\n",
              "<p>5216 rows × 2 columns</p>\n",
              "</div>\n",
              "      <button class=\"colab-df-convert\" onclick=\"convertToInteractive('df-83b944fb-edd9-4bd0-9183-088e592d12bf')\"\n",
              "              title=\"Convert this dataframe to an interactive table.\"\n",
              "              style=\"display:none;\">\n",
              "        \n",
              "  <svg xmlns=\"http://www.w3.org/2000/svg\" height=\"24px\"viewBox=\"0 0 24 24\"\n",
              "       width=\"24px\">\n",
              "    <path d=\"M0 0h24v24H0V0z\" fill=\"none\"/>\n",
              "    <path d=\"M18.56 5.44l.94 2.06.94-2.06 2.06-.94-2.06-.94-.94-2.06-.94 2.06-2.06.94zm-11 1L8.5 8.5l.94-2.06 2.06-.94-2.06-.94L8.5 2.5l-.94 2.06-2.06.94zm10 10l.94 2.06.94-2.06 2.06-.94-2.06-.94-.94-2.06-.94 2.06-2.06.94z\"/><path d=\"M17.41 7.96l-1.37-1.37c-.4-.4-.92-.59-1.43-.59-.52 0-1.04.2-1.43.59L10.3 9.45l-7.72 7.72c-.78.78-.78 2.05 0 2.83L4 21.41c.39.39.9.59 1.41.59.51 0 1.02-.2 1.41-.59l7.78-7.78 2.81-2.81c.8-.78.8-2.07 0-2.86zM5.41 20L4 18.59l7.72-7.72 1.47 1.35L5.41 20z\"/>\n",
              "  </svg>\n",
              "      </button>\n",
              "      \n",
              "  <style>\n",
              "    .colab-df-container {\n",
              "      display:flex;\n",
              "      flex-wrap:wrap;\n",
              "      gap: 12px;\n",
              "    }\n",
              "\n",
              "    .colab-df-convert {\n",
              "      background-color: #E8F0FE;\n",
              "      border: none;\n",
              "      border-radius: 50%;\n",
              "      cursor: pointer;\n",
              "      display: none;\n",
              "      fill: #1967D2;\n",
              "      height: 32px;\n",
              "      padding: 0 0 0 0;\n",
              "      width: 32px;\n",
              "    }\n",
              "\n",
              "    .colab-df-convert:hover {\n",
              "      background-color: #E2EBFA;\n",
              "      box-shadow: 0px 1px 2px rgba(60, 64, 67, 0.3), 0px 1px 3px 1px rgba(60, 64, 67, 0.15);\n",
              "      fill: #174EA6;\n",
              "    }\n",
              "\n",
              "    [theme=dark] .colab-df-convert {\n",
              "      background-color: #3B4455;\n",
              "      fill: #D2E3FC;\n",
              "    }\n",
              "\n",
              "    [theme=dark] .colab-df-convert:hover {\n",
              "      background-color: #434B5C;\n",
              "      box-shadow: 0px 1px 3px 1px rgba(0, 0, 0, 0.15);\n",
              "      filter: drop-shadow(0px 1px 2px rgba(0, 0, 0, 0.3));\n",
              "      fill: #FFFFFF;\n",
              "    }\n",
              "  </style>\n",
              "\n",
              "      <script>\n",
              "        const buttonEl =\n",
              "          document.querySelector('#df-83b944fb-edd9-4bd0-9183-088e592d12bf button.colab-df-convert');\n",
              "        buttonEl.style.display =\n",
              "          google.colab.kernel.accessAllowed ? 'block' : 'none';\n",
              "\n",
              "        async function convertToInteractive(key) {\n",
              "          const element = document.querySelector('#df-83b944fb-edd9-4bd0-9183-088e592d12bf');\n",
              "          const dataTable =\n",
              "            await google.colab.kernel.invokeFunction('convertToInteractive',\n",
              "                                                     [key], {});\n",
              "          if (!dataTable) return;\n",
              "\n",
              "          const docLinkHtml = 'Like what you see? Visit the ' +\n",
              "            '<a target=\"_blank\" href=https://colab.research.google.com/notebooks/data_table.ipynb>data table notebook</a>'\n",
              "            + ' to learn more about interactive tables.';\n",
              "          element.innerHTML = '';\n",
              "          dataTable['output_type'] = 'display_data';\n",
              "          await google.colab.output.renderOutput(dataTable, element);\n",
              "          const docLink = document.createElement('div');\n",
              "          docLink.innerHTML = docLinkHtml;\n",
              "          element.appendChild(docLink);\n",
              "        }\n",
              "      </script>\n",
              "    </div>\n",
              "  </div>\n",
              "  "
            ]
          },
          "metadata": {},
          "execution_count": 7
        }
      ]
    },
    {
      "cell_type": "code",
      "source": [
        "df_test"
      ],
      "metadata": {
        "colab": {
          "base_uri": "https://localhost:8080/",
          "height": 424
        },
        "id": "vQuGupeR9IB6",
        "outputId": "5dc91910-4ab7-4bb1-b4f6-ea5a78e5268c"
      },
      "execution_count": null,
      "outputs": [
        {
          "output_type": "execute_result",
          "data": {
            "text/plain": [
              "         class                                              image\n",
              "0       Normal  /content/lol/chest_xray/chest_xray/test/NORMAL...\n",
              "1       Normal  /content/lol/chest_xray/chest_xray/test/NORMAL...\n",
              "2       Normal  /content/lol/chest_xray/chest_xray/test/NORMAL...\n",
              "3       Normal  /content/lol/chest_xray/chest_xray/test/NORMAL...\n",
              "4       Normal  /content/lol/chest_xray/chest_xray/test/NORMAL...\n",
              "..         ...                                                ...\n",
              "619  Pneumonia  /content/lol/chest_xray/chest_xray/test/PNEUMO...\n",
              "620  Pneumonia  /content/lol/chest_xray/chest_xray/test/PNEUMO...\n",
              "621  Pneumonia  /content/lol/chest_xray/chest_xray/test/PNEUMO...\n",
              "622  Pneumonia  /content/lol/chest_xray/chest_xray/test/PNEUMO...\n",
              "623  Pneumonia  /content/lol/chest_xray/chest_xray/test/PNEUMO...\n",
              "\n",
              "[624 rows x 2 columns]"
            ],
            "text/html": [
              "\n",
              "  <div id=\"df-95c9484f-ce92-4afb-a985-1cfa60a6157b\">\n",
              "    <div class=\"colab-df-container\">\n",
              "      <div>\n",
              "<style scoped>\n",
              "    .dataframe tbody tr th:only-of-type {\n",
              "        vertical-align: middle;\n",
              "    }\n",
              "\n",
              "    .dataframe tbody tr th {\n",
              "        vertical-align: top;\n",
              "    }\n",
              "\n",
              "    .dataframe thead th {\n",
              "        text-align: right;\n",
              "    }\n",
              "</style>\n",
              "<table border=\"1\" class=\"dataframe\">\n",
              "  <thead>\n",
              "    <tr style=\"text-align: right;\">\n",
              "      <th></th>\n",
              "      <th>class</th>\n",
              "      <th>image</th>\n",
              "    </tr>\n",
              "  </thead>\n",
              "  <tbody>\n",
              "    <tr>\n",
              "      <th>0</th>\n",
              "      <td>Normal</td>\n",
              "      <td>/content/lol/chest_xray/chest_xray/test/NORMAL...</td>\n",
              "    </tr>\n",
              "    <tr>\n",
              "      <th>1</th>\n",
              "      <td>Normal</td>\n",
              "      <td>/content/lol/chest_xray/chest_xray/test/NORMAL...</td>\n",
              "    </tr>\n",
              "    <tr>\n",
              "      <th>2</th>\n",
              "      <td>Normal</td>\n",
              "      <td>/content/lol/chest_xray/chest_xray/test/NORMAL...</td>\n",
              "    </tr>\n",
              "    <tr>\n",
              "      <th>3</th>\n",
              "      <td>Normal</td>\n",
              "      <td>/content/lol/chest_xray/chest_xray/test/NORMAL...</td>\n",
              "    </tr>\n",
              "    <tr>\n",
              "      <th>4</th>\n",
              "      <td>Normal</td>\n",
              "      <td>/content/lol/chest_xray/chest_xray/test/NORMAL...</td>\n",
              "    </tr>\n",
              "    <tr>\n",
              "      <th>...</th>\n",
              "      <td>...</td>\n",
              "      <td>...</td>\n",
              "    </tr>\n",
              "    <tr>\n",
              "      <th>619</th>\n",
              "      <td>Pneumonia</td>\n",
              "      <td>/content/lol/chest_xray/chest_xray/test/PNEUMO...</td>\n",
              "    </tr>\n",
              "    <tr>\n",
              "      <th>620</th>\n",
              "      <td>Pneumonia</td>\n",
              "      <td>/content/lol/chest_xray/chest_xray/test/PNEUMO...</td>\n",
              "    </tr>\n",
              "    <tr>\n",
              "      <th>621</th>\n",
              "      <td>Pneumonia</td>\n",
              "      <td>/content/lol/chest_xray/chest_xray/test/PNEUMO...</td>\n",
              "    </tr>\n",
              "    <tr>\n",
              "      <th>622</th>\n",
              "      <td>Pneumonia</td>\n",
              "      <td>/content/lol/chest_xray/chest_xray/test/PNEUMO...</td>\n",
              "    </tr>\n",
              "    <tr>\n",
              "      <th>623</th>\n",
              "      <td>Pneumonia</td>\n",
              "      <td>/content/lol/chest_xray/chest_xray/test/PNEUMO...</td>\n",
              "    </tr>\n",
              "  </tbody>\n",
              "</table>\n",
              "<p>624 rows × 2 columns</p>\n",
              "</div>\n",
              "      <button class=\"colab-df-convert\" onclick=\"convertToInteractive('df-95c9484f-ce92-4afb-a985-1cfa60a6157b')\"\n",
              "              title=\"Convert this dataframe to an interactive table.\"\n",
              "              style=\"display:none;\">\n",
              "        \n",
              "  <svg xmlns=\"http://www.w3.org/2000/svg\" height=\"24px\"viewBox=\"0 0 24 24\"\n",
              "       width=\"24px\">\n",
              "    <path d=\"M0 0h24v24H0V0z\" fill=\"none\"/>\n",
              "    <path d=\"M18.56 5.44l.94 2.06.94-2.06 2.06-.94-2.06-.94-.94-2.06-.94 2.06-2.06.94zm-11 1L8.5 8.5l.94-2.06 2.06-.94-2.06-.94L8.5 2.5l-.94 2.06-2.06.94zm10 10l.94 2.06.94-2.06 2.06-.94-2.06-.94-.94-2.06-.94 2.06-2.06.94z\"/><path d=\"M17.41 7.96l-1.37-1.37c-.4-.4-.92-.59-1.43-.59-.52 0-1.04.2-1.43.59L10.3 9.45l-7.72 7.72c-.78.78-.78 2.05 0 2.83L4 21.41c.39.39.9.59 1.41.59.51 0 1.02-.2 1.41-.59l7.78-7.78 2.81-2.81c.8-.78.8-2.07 0-2.86zM5.41 20L4 18.59l7.72-7.72 1.47 1.35L5.41 20z\"/>\n",
              "  </svg>\n",
              "      </button>\n",
              "      \n",
              "  <style>\n",
              "    .colab-df-container {\n",
              "      display:flex;\n",
              "      flex-wrap:wrap;\n",
              "      gap: 12px;\n",
              "    }\n",
              "\n",
              "    .colab-df-convert {\n",
              "      background-color: #E8F0FE;\n",
              "      border: none;\n",
              "      border-radius: 50%;\n",
              "      cursor: pointer;\n",
              "      display: none;\n",
              "      fill: #1967D2;\n",
              "      height: 32px;\n",
              "      padding: 0 0 0 0;\n",
              "      width: 32px;\n",
              "    }\n",
              "\n",
              "    .colab-df-convert:hover {\n",
              "      background-color: #E2EBFA;\n",
              "      box-shadow: 0px 1px 2px rgba(60, 64, 67, 0.3), 0px 1px 3px 1px rgba(60, 64, 67, 0.15);\n",
              "      fill: #174EA6;\n",
              "    }\n",
              "\n",
              "    [theme=dark] .colab-df-convert {\n",
              "      background-color: #3B4455;\n",
              "      fill: #D2E3FC;\n",
              "    }\n",
              "\n",
              "    [theme=dark] .colab-df-convert:hover {\n",
              "      background-color: #434B5C;\n",
              "      box-shadow: 0px 1px 3px 1px rgba(0, 0, 0, 0.15);\n",
              "      filter: drop-shadow(0px 1px 2px rgba(0, 0, 0, 0.3));\n",
              "      fill: #FFFFFF;\n",
              "    }\n",
              "  </style>\n",
              "\n",
              "      <script>\n",
              "        const buttonEl =\n",
              "          document.querySelector('#df-95c9484f-ce92-4afb-a985-1cfa60a6157b button.colab-df-convert');\n",
              "        buttonEl.style.display =\n",
              "          google.colab.kernel.accessAllowed ? 'block' : 'none';\n",
              "\n",
              "        async function convertToInteractive(key) {\n",
              "          const element = document.querySelector('#df-95c9484f-ce92-4afb-a985-1cfa60a6157b');\n",
              "          const dataTable =\n",
              "            await google.colab.kernel.invokeFunction('convertToInteractive',\n",
              "                                                     [key], {});\n",
              "          if (!dataTable) return;\n",
              "\n",
              "          const docLinkHtml = 'Like what you see? Visit the ' +\n",
              "            '<a target=\"_blank\" href=https://colab.research.google.com/notebooks/data_table.ipynb>data table notebook</a>'\n",
              "            + ' to learn more about interactive tables.';\n",
              "          element.innerHTML = '';\n",
              "          dataTable['output_type'] = 'display_data';\n",
              "          await google.colab.output.renderOutput(dataTable, element);\n",
              "          const docLink = document.createElement('div');\n",
              "          docLink.innerHTML = docLinkHtml;\n",
              "          element.appendChild(docLink);\n",
              "        }\n",
              "      </script>\n",
              "    </div>\n",
              "  </div>\n",
              "  "
            ]
          },
          "metadata": {},
          "execution_count": 8
        }
      ]
    },
    {
      "cell_type": "code",
      "source": [
        "df_val"
      ],
      "metadata": {
        "colab": {
          "base_uri": "https://localhost:8080/",
          "height": 551
        },
        "id": "4wIfHQUS9LAY",
        "outputId": "c10513a3-1a8d-4362-c790-68974ca22aff"
      },
      "execution_count": null,
      "outputs": [
        {
          "output_type": "execute_result",
          "data": {
            "text/plain": [
              "        class                                              image\n",
              "0      Normal  /content/lol/chest_xray/chest_xray/val/NORMAL/...\n",
              "1      Normal  /content/lol/chest_xray/chest_xray/val/NORMAL/...\n",
              "2      Normal  /content/lol/chest_xray/chest_xray/val/NORMAL/...\n",
              "3      Normal  /content/lol/chest_xray/chest_xray/val/NORMAL/...\n",
              "4      Normal  /content/lol/chest_xray/chest_xray/val/NORMAL/...\n",
              "5      Normal  /content/lol/chest_xray/chest_xray/val/NORMAL/...\n",
              "6      Normal  /content/lol/chest_xray/chest_xray/val/NORMAL/...\n",
              "7      Normal  /content/lol/chest_xray/chest_xray/val/NORMAL/...\n",
              "8   Pneumonia  /content/lol/chest_xray/chest_xray/val/PNEUMON...\n",
              "9   Pneumonia  /content/lol/chest_xray/chest_xray/val/PNEUMON...\n",
              "10  Pneumonia  /content/lol/chest_xray/chest_xray/val/PNEUMON...\n",
              "11  Pneumonia  /content/lol/chest_xray/chest_xray/val/PNEUMON...\n",
              "12  Pneumonia  /content/lol/chest_xray/chest_xray/val/PNEUMON...\n",
              "13  Pneumonia  /content/lol/chest_xray/chest_xray/val/PNEUMON...\n",
              "14  Pneumonia  /content/lol/chest_xray/chest_xray/val/PNEUMON...\n",
              "15  Pneumonia  /content/lol/chest_xray/chest_xray/val/PNEUMON..."
            ],
            "text/html": [
              "\n",
              "  <div id=\"df-ead6b0c3-c3d1-414d-ae84-c214592e47b0\">\n",
              "    <div class=\"colab-df-container\">\n",
              "      <div>\n",
              "<style scoped>\n",
              "    .dataframe tbody tr th:only-of-type {\n",
              "        vertical-align: middle;\n",
              "    }\n",
              "\n",
              "    .dataframe tbody tr th {\n",
              "        vertical-align: top;\n",
              "    }\n",
              "\n",
              "    .dataframe thead th {\n",
              "        text-align: right;\n",
              "    }\n",
              "</style>\n",
              "<table border=\"1\" class=\"dataframe\">\n",
              "  <thead>\n",
              "    <tr style=\"text-align: right;\">\n",
              "      <th></th>\n",
              "      <th>class</th>\n",
              "      <th>image</th>\n",
              "    </tr>\n",
              "  </thead>\n",
              "  <tbody>\n",
              "    <tr>\n",
              "      <th>0</th>\n",
              "      <td>Normal</td>\n",
              "      <td>/content/lol/chest_xray/chest_xray/val/NORMAL/...</td>\n",
              "    </tr>\n",
              "    <tr>\n",
              "      <th>1</th>\n",
              "      <td>Normal</td>\n",
              "      <td>/content/lol/chest_xray/chest_xray/val/NORMAL/...</td>\n",
              "    </tr>\n",
              "    <tr>\n",
              "      <th>2</th>\n",
              "      <td>Normal</td>\n",
              "      <td>/content/lol/chest_xray/chest_xray/val/NORMAL/...</td>\n",
              "    </tr>\n",
              "    <tr>\n",
              "      <th>3</th>\n",
              "      <td>Normal</td>\n",
              "      <td>/content/lol/chest_xray/chest_xray/val/NORMAL/...</td>\n",
              "    </tr>\n",
              "    <tr>\n",
              "      <th>4</th>\n",
              "      <td>Normal</td>\n",
              "      <td>/content/lol/chest_xray/chest_xray/val/NORMAL/...</td>\n",
              "    </tr>\n",
              "    <tr>\n",
              "      <th>5</th>\n",
              "      <td>Normal</td>\n",
              "      <td>/content/lol/chest_xray/chest_xray/val/NORMAL/...</td>\n",
              "    </tr>\n",
              "    <tr>\n",
              "      <th>6</th>\n",
              "      <td>Normal</td>\n",
              "      <td>/content/lol/chest_xray/chest_xray/val/NORMAL/...</td>\n",
              "    </tr>\n",
              "    <tr>\n",
              "      <th>7</th>\n",
              "      <td>Normal</td>\n",
              "      <td>/content/lol/chest_xray/chest_xray/val/NORMAL/...</td>\n",
              "    </tr>\n",
              "    <tr>\n",
              "      <th>8</th>\n",
              "      <td>Pneumonia</td>\n",
              "      <td>/content/lol/chest_xray/chest_xray/val/PNEUMON...</td>\n",
              "    </tr>\n",
              "    <tr>\n",
              "      <th>9</th>\n",
              "      <td>Pneumonia</td>\n",
              "      <td>/content/lol/chest_xray/chest_xray/val/PNEUMON...</td>\n",
              "    </tr>\n",
              "    <tr>\n",
              "      <th>10</th>\n",
              "      <td>Pneumonia</td>\n",
              "      <td>/content/lol/chest_xray/chest_xray/val/PNEUMON...</td>\n",
              "    </tr>\n",
              "    <tr>\n",
              "      <th>11</th>\n",
              "      <td>Pneumonia</td>\n",
              "      <td>/content/lol/chest_xray/chest_xray/val/PNEUMON...</td>\n",
              "    </tr>\n",
              "    <tr>\n",
              "      <th>12</th>\n",
              "      <td>Pneumonia</td>\n",
              "      <td>/content/lol/chest_xray/chest_xray/val/PNEUMON...</td>\n",
              "    </tr>\n",
              "    <tr>\n",
              "      <th>13</th>\n",
              "      <td>Pneumonia</td>\n",
              "      <td>/content/lol/chest_xray/chest_xray/val/PNEUMON...</td>\n",
              "    </tr>\n",
              "    <tr>\n",
              "      <th>14</th>\n",
              "      <td>Pneumonia</td>\n",
              "      <td>/content/lol/chest_xray/chest_xray/val/PNEUMON...</td>\n",
              "    </tr>\n",
              "    <tr>\n",
              "      <th>15</th>\n",
              "      <td>Pneumonia</td>\n",
              "      <td>/content/lol/chest_xray/chest_xray/val/PNEUMON...</td>\n",
              "    </tr>\n",
              "  </tbody>\n",
              "</table>\n",
              "</div>\n",
              "      <button class=\"colab-df-convert\" onclick=\"convertToInteractive('df-ead6b0c3-c3d1-414d-ae84-c214592e47b0')\"\n",
              "              title=\"Convert this dataframe to an interactive table.\"\n",
              "              style=\"display:none;\">\n",
              "        \n",
              "  <svg xmlns=\"http://www.w3.org/2000/svg\" height=\"24px\"viewBox=\"0 0 24 24\"\n",
              "       width=\"24px\">\n",
              "    <path d=\"M0 0h24v24H0V0z\" fill=\"none\"/>\n",
              "    <path d=\"M18.56 5.44l.94 2.06.94-2.06 2.06-.94-2.06-.94-.94-2.06-.94 2.06-2.06.94zm-11 1L8.5 8.5l.94-2.06 2.06-.94-2.06-.94L8.5 2.5l-.94 2.06-2.06.94zm10 10l.94 2.06.94-2.06 2.06-.94-2.06-.94-.94-2.06-.94 2.06-2.06.94z\"/><path d=\"M17.41 7.96l-1.37-1.37c-.4-.4-.92-.59-1.43-.59-.52 0-1.04.2-1.43.59L10.3 9.45l-7.72 7.72c-.78.78-.78 2.05 0 2.83L4 21.41c.39.39.9.59 1.41.59.51 0 1.02-.2 1.41-.59l7.78-7.78 2.81-2.81c.8-.78.8-2.07 0-2.86zM5.41 20L4 18.59l7.72-7.72 1.47 1.35L5.41 20z\"/>\n",
              "  </svg>\n",
              "      </button>\n",
              "      \n",
              "  <style>\n",
              "    .colab-df-container {\n",
              "      display:flex;\n",
              "      flex-wrap:wrap;\n",
              "      gap: 12px;\n",
              "    }\n",
              "\n",
              "    .colab-df-convert {\n",
              "      background-color: #E8F0FE;\n",
              "      border: none;\n",
              "      border-radius: 50%;\n",
              "      cursor: pointer;\n",
              "      display: none;\n",
              "      fill: #1967D2;\n",
              "      height: 32px;\n",
              "      padding: 0 0 0 0;\n",
              "      width: 32px;\n",
              "    }\n",
              "\n",
              "    .colab-df-convert:hover {\n",
              "      background-color: #E2EBFA;\n",
              "      box-shadow: 0px 1px 2px rgba(60, 64, 67, 0.3), 0px 1px 3px 1px rgba(60, 64, 67, 0.15);\n",
              "      fill: #174EA6;\n",
              "    }\n",
              "\n",
              "    [theme=dark] .colab-df-convert {\n",
              "      background-color: #3B4455;\n",
              "      fill: #D2E3FC;\n",
              "    }\n",
              "\n",
              "    [theme=dark] .colab-df-convert:hover {\n",
              "      background-color: #434B5C;\n",
              "      box-shadow: 0px 1px 3px 1px rgba(0, 0, 0, 0.15);\n",
              "      filter: drop-shadow(0px 1px 2px rgba(0, 0, 0, 0.3));\n",
              "      fill: #FFFFFF;\n",
              "    }\n",
              "  </style>\n",
              "\n",
              "      <script>\n",
              "        const buttonEl =\n",
              "          document.querySelector('#df-ead6b0c3-c3d1-414d-ae84-c214592e47b0 button.colab-df-convert');\n",
              "        buttonEl.style.display =\n",
              "          google.colab.kernel.accessAllowed ? 'block' : 'none';\n",
              "\n",
              "        async function convertToInteractive(key) {\n",
              "          const element = document.querySelector('#df-ead6b0c3-c3d1-414d-ae84-c214592e47b0');\n",
              "          const dataTable =\n",
              "            await google.colab.kernel.invokeFunction('convertToInteractive',\n",
              "                                                     [key], {});\n",
              "          if (!dataTable) return;\n",
              "\n",
              "          const docLinkHtml = 'Like what you see? Visit the ' +\n",
              "            '<a target=\"_blank\" href=https://colab.research.google.com/notebooks/data_table.ipynb>data table notebook</a>'\n",
              "            + ' to learn more about interactive tables.';\n",
              "          element.innerHTML = '';\n",
              "          dataTable['output_type'] = 'display_data';\n",
              "          await google.colab.output.renderOutput(dataTable, element);\n",
              "          const docLink = document.createElement('div');\n",
              "          docLink.innerHTML = docLinkHtml;\n",
              "          element.appendChild(docLink);\n",
              "        }\n",
              "      </script>\n",
              "    </div>\n",
              "  </div>\n",
              "  "
            ]
          },
          "metadata": {},
          "execution_count": 9
        }
      ]
    },
    {
      "cell_type": "code",
      "source": [
        "import plotly.graph_objects as go\n",
        "trace = go.Pie(labels = ['Pneumonia', 'Normal'], values = df_train['class'].value_counts(), \n",
        "               textfont=dict(size=15), opacity = 0.8,\n",
        "               marker=dict(colors=['lightskyblue','gold'], \n",
        "                           line=dict(color='#000000', width=1.5)))\n",
        "\n",
        "\n",
        "layout = dict(title =  'Distribution of class variable in train dataset')\n",
        "           \n",
        "fig = dict(data = [trace], layout=layout)\n",
        "py.iplot(fig)"
      ],
      "metadata": {
        "colab": {
          "base_uri": "https://localhost:8080/",
          "height": 542
        },
        "id": "UAiIk968U2LI",
        "outputId": "5d51cbe0-7c22-40a2-b60f-929f01e7c723"
      },
      "execution_count": null,
      "outputs": [
        {
          "output_type": "display_data",
          "data": {
            "application/vnd.plotly.v1+json": {
              "data": [
                {
                  "labels": [
                    "Pneumonia",
                    "Normal"
                  ],
                  "marker": {
                    "colors": [
                      "lightskyblue",
                      "gold"
                    ],
                    "line": {
                      "color": "#000000",
                      "width": 1.5
                    }
                  },
                  "opacity": 0.8,
                  "textfont": {
                    "size": 15
                  },
                  "values": [
                    3875,
                    1341
                  ],
                  "type": "pie"
                }
              ],
              "layout": {
                "template": {
                  "data": {
                    "barpolar": [
                      {
                        "marker": {
                          "line": {
                            "color": "#E5ECF6",
                            "width": 0.5
                          },
                          "pattern": {
                            "fillmode": "overlay",
                            "size": 10,
                            "solidity": 0.2
                          }
                        },
                        "type": "barpolar"
                      }
                    ],
                    "bar": [
                      {
                        "error_x": {
                          "color": "#2a3f5f"
                        },
                        "error_y": {
                          "color": "#2a3f5f"
                        },
                        "marker": {
                          "line": {
                            "color": "#E5ECF6",
                            "width": 0.5
                          },
                          "pattern": {
                            "fillmode": "overlay",
                            "size": 10,
                            "solidity": 0.2
                          }
                        },
                        "type": "bar"
                      }
                    ],
                    "carpet": [
                      {
                        "aaxis": {
                          "endlinecolor": "#2a3f5f",
                          "gridcolor": "white",
                          "linecolor": "white",
                          "minorgridcolor": "white",
                          "startlinecolor": "#2a3f5f"
                        },
                        "baxis": {
                          "endlinecolor": "#2a3f5f",
                          "gridcolor": "white",
                          "linecolor": "white",
                          "minorgridcolor": "white",
                          "startlinecolor": "#2a3f5f"
                        },
                        "type": "carpet"
                      }
                    ],
                    "choropleth": [
                      {
                        "colorbar": {
                          "outlinewidth": 0,
                          "ticks": ""
                        },
                        "type": "choropleth"
                      }
                    ],
                    "contourcarpet": [
                      {
                        "colorbar": {
                          "outlinewidth": 0,
                          "ticks": ""
                        },
                        "type": "contourcarpet"
                      }
                    ],
                    "contour": [
                      {
                        "colorbar": {
                          "outlinewidth": 0,
                          "ticks": ""
                        },
                        "colorscale": [
                          [
                            0,
                            "#0d0887"
                          ],
                          [
                            0.1111111111111111,
                            "#46039f"
                          ],
                          [
                            0.2222222222222222,
                            "#7201a8"
                          ],
                          [
                            0.3333333333333333,
                            "#9c179e"
                          ],
                          [
                            0.4444444444444444,
                            "#bd3786"
                          ],
                          [
                            0.5555555555555556,
                            "#d8576b"
                          ],
                          [
                            0.6666666666666666,
                            "#ed7953"
                          ],
                          [
                            0.7777777777777778,
                            "#fb9f3a"
                          ],
                          [
                            0.8888888888888888,
                            "#fdca26"
                          ],
                          [
                            1,
                            "#f0f921"
                          ]
                        ],
                        "type": "contour"
                      }
                    ],
                    "heatmapgl": [
                      {
                        "colorbar": {
                          "outlinewidth": 0,
                          "ticks": ""
                        },
                        "colorscale": [
                          [
                            0,
                            "#0d0887"
                          ],
                          [
                            0.1111111111111111,
                            "#46039f"
                          ],
                          [
                            0.2222222222222222,
                            "#7201a8"
                          ],
                          [
                            0.3333333333333333,
                            "#9c179e"
                          ],
                          [
                            0.4444444444444444,
                            "#bd3786"
                          ],
                          [
                            0.5555555555555556,
                            "#d8576b"
                          ],
                          [
                            0.6666666666666666,
                            "#ed7953"
                          ],
                          [
                            0.7777777777777778,
                            "#fb9f3a"
                          ],
                          [
                            0.8888888888888888,
                            "#fdca26"
                          ],
                          [
                            1,
                            "#f0f921"
                          ]
                        ],
                        "type": "heatmapgl"
                      }
                    ],
                    "heatmap": [
                      {
                        "colorbar": {
                          "outlinewidth": 0,
                          "ticks": ""
                        },
                        "colorscale": [
                          [
                            0,
                            "#0d0887"
                          ],
                          [
                            0.1111111111111111,
                            "#46039f"
                          ],
                          [
                            0.2222222222222222,
                            "#7201a8"
                          ],
                          [
                            0.3333333333333333,
                            "#9c179e"
                          ],
                          [
                            0.4444444444444444,
                            "#bd3786"
                          ],
                          [
                            0.5555555555555556,
                            "#d8576b"
                          ],
                          [
                            0.6666666666666666,
                            "#ed7953"
                          ],
                          [
                            0.7777777777777778,
                            "#fb9f3a"
                          ],
                          [
                            0.8888888888888888,
                            "#fdca26"
                          ],
                          [
                            1,
                            "#f0f921"
                          ]
                        ],
                        "type": "heatmap"
                      }
                    ],
                    "histogram2dcontour": [
                      {
                        "colorbar": {
                          "outlinewidth": 0,
                          "ticks": ""
                        },
                        "colorscale": [
                          [
                            0,
                            "#0d0887"
                          ],
                          [
                            0.1111111111111111,
                            "#46039f"
                          ],
                          [
                            0.2222222222222222,
                            "#7201a8"
                          ],
                          [
                            0.3333333333333333,
                            "#9c179e"
                          ],
                          [
                            0.4444444444444444,
                            "#bd3786"
                          ],
                          [
                            0.5555555555555556,
                            "#d8576b"
                          ],
                          [
                            0.6666666666666666,
                            "#ed7953"
                          ],
                          [
                            0.7777777777777778,
                            "#fb9f3a"
                          ],
                          [
                            0.8888888888888888,
                            "#fdca26"
                          ],
                          [
                            1,
                            "#f0f921"
                          ]
                        ],
                        "type": "histogram2dcontour"
                      }
                    ],
                    "histogram2d": [
                      {
                        "colorbar": {
                          "outlinewidth": 0,
                          "ticks": ""
                        },
                        "colorscale": [
                          [
                            0,
                            "#0d0887"
                          ],
                          [
                            0.1111111111111111,
                            "#46039f"
                          ],
                          [
                            0.2222222222222222,
                            "#7201a8"
                          ],
                          [
                            0.3333333333333333,
                            "#9c179e"
                          ],
                          [
                            0.4444444444444444,
                            "#bd3786"
                          ],
                          [
                            0.5555555555555556,
                            "#d8576b"
                          ],
                          [
                            0.6666666666666666,
                            "#ed7953"
                          ],
                          [
                            0.7777777777777778,
                            "#fb9f3a"
                          ],
                          [
                            0.8888888888888888,
                            "#fdca26"
                          ],
                          [
                            1,
                            "#f0f921"
                          ]
                        ],
                        "type": "histogram2d"
                      }
                    ],
                    "histogram": [
                      {
                        "marker": {
                          "pattern": {
                            "fillmode": "overlay",
                            "size": 10,
                            "solidity": 0.2
                          }
                        },
                        "type": "histogram"
                      }
                    ],
                    "mesh3d": [
                      {
                        "colorbar": {
                          "outlinewidth": 0,
                          "ticks": ""
                        },
                        "type": "mesh3d"
                      }
                    ],
                    "parcoords": [
                      {
                        "line": {
                          "colorbar": {
                            "outlinewidth": 0,
                            "ticks": ""
                          }
                        },
                        "type": "parcoords"
                      }
                    ],
                    "pie": [
                      {
                        "automargin": true,
                        "type": "pie"
                      }
                    ],
                    "scatter3d": [
                      {
                        "line": {
                          "colorbar": {
                            "outlinewidth": 0,
                            "ticks": ""
                          }
                        },
                        "marker": {
                          "colorbar": {
                            "outlinewidth": 0,
                            "ticks": ""
                          }
                        },
                        "type": "scatter3d"
                      }
                    ],
                    "scattercarpet": [
                      {
                        "marker": {
                          "colorbar": {
                            "outlinewidth": 0,
                            "ticks": ""
                          }
                        },
                        "type": "scattercarpet"
                      }
                    ],
                    "scattergeo": [
                      {
                        "marker": {
                          "colorbar": {
                            "outlinewidth": 0,
                            "ticks": ""
                          }
                        },
                        "type": "scattergeo"
                      }
                    ],
                    "scattergl": [
                      {
                        "marker": {
                          "colorbar": {
                            "outlinewidth": 0,
                            "ticks": ""
                          }
                        },
                        "type": "scattergl"
                      }
                    ],
                    "scattermapbox": [
                      {
                        "marker": {
                          "colorbar": {
                            "outlinewidth": 0,
                            "ticks": ""
                          }
                        },
                        "type": "scattermapbox"
                      }
                    ],
                    "scatterpolargl": [
                      {
                        "marker": {
                          "colorbar": {
                            "outlinewidth": 0,
                            "ticks": ""
                          }
                        },
                        "type": "scatterpolargl"
                      }
                    ],
                    "scatterpolar": [
                      {
                        "marker": {
                          "colorbar": {
                            "outlinewidth": 0,
                            "ticks": ""
                          }
                        },
                        "type": "scatterpolar"
                      }
                    ],
                    "scatter": [
                      {
                        "marker": {
                          "colorbar": {
                            "outlinewidth": 0,
                            "ticks": ""
                          }
                        },
                        "type": "scatter"
                      }
                    ],
                    "scatterternary": [
                      {
                        "marker": {
                          "colorbar": {
                            "outlinewidth": 0,
                            "ticks": ""
                          }
                        },
                        "type": "scatterternary"
                      }
                    ],
                    "surface": [
                      {
                        "colorbar": {
                          "outlinewidth": 0,
                          "ticks": ""
                        },
                        "colorscale": [
                          [
                            0,
                            "#0d0887"
                          ],
                          [
                            0.1111111111111111,
                            "#46039f"
                          ],
                          [
                            0.2222222222222222,
                            "#7201a8"
                          ],
                          [
                            0.3333333333333333,
                            "#9c179e"
                          ],
                          [
                            0.4444444444444444,
                            "#bd3786"
                          ],
                          [
                            0.5555555555555556,
                            "#d8576b"
                          ],
                          [
                            0.6666666666666666,
                            "#ed7953"
                          ],
                          [
                            0.7777777777777778,
                            "#fb9f3a"
                          ],
                          [
                            0.8888888888888888,
                            "#fdca26"
                          ],
                          [
                            1,
                            "#f0f921"
                          ]
                        ],
                        "type": "surface"
                      }
                    ],
                    "table": [
                      {
                        "cells": {
                          "fill": {
                            "color": "#EBF0F8"
                          },
                          "line": {
                            "color": "white"
                          }
                        },
                        "header": {
                          "fill": {
                            "color": "#C8D4E3"
                          },
                          "line": {
                            "color": "white"
                          }
                        },
                        "type": "table"
                      }
                    ]
                  },
                  "layout": {
                    "annotationdefaults": {
                      "arrowcolor": "#2a3f5f",
                      "arrowhead": 0,
                      "arrowwidth": 1
                    },
                    "autotypenumbers": "strict",
                    "coloraxis": {
                      "colorbar": {
                        "outlinewidth": 0,
                        "ticks": ""
                      }
                    },
                    "colorscale": {
                      "diverging": [
                        [
                          0,
                          "#8e0152"
                        ],
                        [
                          0.1,
                          "#c51b7d"
                        ],
                        [
                          0.2,
                          "#de77ae"
                        ],
                        [
                          0.3,
                          "#f1b6da"
                        ],
                        [
                          0.4,
                          "#fde0ef"
                        ],
                        [
                          0.5,
                          "#f7f7f7"
                        ],
                        [
                          0.6,
                          "#e6f5d0"
                        ],
                        [
                          0.7,
                          "#b8e186"
                        ],
                        [
                          0.8,
                          "#7fbc41"
                        ],
                        [
                          0.9,
                          "#4d9221"
                        ],
                        [
                          1,
                          "#276419"
                        ]
                      ],
                      "sequential": [
                        [
                          0,
                          "#0d0887"
                        ],
                        [
                          0.1111111111111111,
                          "#46039f"
                        ],
                        [
                          0.2222222222222222,
                          "#7201a8"
                        ],
                        [
                          0.3333333333333333,
                          "#9c179e"
                        ],
                        [
                          0.4444444444444444,
                          "#bd3786"
                        ],
                        [
                          0.5555555555555556,
                          "#d8576b"
                        ],
                        [
                          0.6666666666666666,
                          "#ed7953"
                        ],
                        [
                          0.7777777777777778,
                          "#fb9f3a"
                        ],
                        [
                          0.8888888888888888,
                          "#fdca26"
                        ],
                        [
                          1,
                          "#f0f921"
                        ]
                      ],
                      "sequentialminus": [
                        [
                          0,
                          "#0d0887"
                        ],
                        [
                          0.1111111111111111,
                          "#46039f"
                        ],
                        [
                          0.2222222222222222,
                          "#7201a8"
                        ],
                        [
                          0.3333333333333333,
                          "#9c179e"
                        ],
                        [
                          0.4444444444444444,
                          "#bd3786"
                        ],
                        [
                          0.5555555555555556,
                          "#d8576b"
                        ],
                        [
                          0.6666666666666666,
                          "#ed7953"
                        ],
                        [
                          0.7777777777777778,
                          "#fb9f3a"
                        ],
                        [
                          0.8888888888888888,
                          "#fdca26"
                        ],
                        [
                          1,
                          "#f0f921"
                        ]
                      ]
                    },
                    "colorway": [
                      "#636efa",
                      "#EF553B",
                      "#00cc96",
                      "#ab63fa",
                      "#FFA15A",
                      "#19d3f3",
                      "#FF6692",
                      "#B6E880",
                      "#FF97FF",
                      "#FECB52"
                    ],
                    "font": {
                      "color": "#2a3f5f"
                    },
                    "geo": {
                      "bgcolor": "white",
                      "lakecolor": "white",
                      "landcolor": "#E5ECF6",
                      "showlakes": true,
                      "showland": true,
                      "subunitcolor": "white"
                    },
                    "hoverlabel": {
                      "align": "left"
                    },
                    "hovermode": "closest",
                    "mapbox": {
                      "style": "light"
                    },
                    "paper_bgcolor": "white",
                    "plot_bgcolor": "#E5ECF6",
                    "polar": {
                      "angularaxis": {
                        "gridcolor": "white",
                        "linecolor": "white",
                        "ticks": ""
                      },
                      "bgcolor": "#E5ECF6",
                      "radialaxis": {
                        "gridcolor": "white",
                        "linecolor": "white",
                        "ticks": ""
                      }
                    },
                    "scene": {
                      "xaxis": {
                        "backgroundcolor": "#E5ECF6",
                        "gridcolor": "white",
                        "gridwidth": 2,
                        "linecolor": "white",
                        "showbackground": true,
                        "ticks": "",
                        "zerolinecolor": "white"
                      },
                      "yaxis": {
                        "backgroundcolor": "#E5ECF6",
                        "gridcolor": "white",
                        "gridwidth": 2,
                        "linecolor": "white",
                        "showbackground": true,
                        "ticks": "",
                        "zerolinecolor": "white"
                      },
                      "zaxis": {
                        "backgroundcolor": "#E5ECF6",
                        "gridcolor": "white",
                        "gridwidth": 2,
                        "linecolor": "white",
                        "showbackground": true,
                        "ticks": "",
                        "zerolinecolor": "white"
                      }
                    },
                    "shapedefaults": {
                      "line": {
                        "color": "#2a3f5f"
                      }
                    },
                    "ternary": {
                      "aaxis": {
                        "gridcolor": "white",
                        "linecolor": "white",
                        "ticks": ""
                      },
                      "baxis": {
                        "gridcolor": "white",
                        "linecolor": "white",
                        "ticks": ""
                      },
                      "bgcolor": "#E5ECF6",
                      "caxis": {
                        "gridcolor": "white",
                        "linecolor": "white",
                        "ticks": ""
                      }
                    },
                    "title": {
                      "x": 0.05
                    },
                    "xaxis": {
                      "automargin": true,
                      "gridcolor": "white",
                      "linecolor": "white",
                      "ticks": "",
                      "title": {
                        "standoff": 15
                      },
                      "zerolinecolor": "white",
                      "zerolinewidth": 2
                    },
                    "yaxis": {
                      "automargin": true,
                      "gridcolor": "white",
                      "linecolor": "white",
                      "ticks": "",
                      "title": {
                        "standoff": 15
                      },
                      "zerolinecolor": "white",
                      "zerolinewidth": 2
                    }
                  }
                },
                "title": {
                  "text": "Distribution of class variable in train dataset"
                }
              },
              "config": {
                "showLink": false,
                "linkText": "Export to plot.ly",
                "plotlyServerURL": "https://plot.ly"
              }
            },
            "text/html": [
              "<div>                            <div id=\"f1b071f1-805b-4b46-ab3f-710653bc3111\" class=\"plotly-graph-div\" style=\"height:525px; width:100%;\"></div>            <script type=\"text/javascript\">                require([\"plotly\"], function(Plotly) {                    window.PLOTLYENV=window.PLOTLYENV || {};                                    if (document.getElementById(\"f1b071f1-805b-4b46-ab3f-710653bc3111\")) {                    Plotly.newPlot(                        \"f1b071f1-805b-4b46-ab3f-710653bc3111\",                        [{\"labels\":[\"Pneumonia\",\"Normal\"],\"marker\":{\"colors\":[\"lightskyblue\",\"gold\"],\"line\":{\"color\":\"#000000\",\"width\":1.5}},\"opacity\":0.8,\"textfont\":{\"size\":15},\"values\":[3875,1341],\"type\":\"pie\"}],                        {\"template\":{\"data\":{\"barpolar\":[{\"marker\":{\"line\":{\"color\":\"#E5ECF6\",\"width\":0.5},\"pattern\":{\"fillmode\":\"overlay\",\"size\":10,\"solidity\":0.2}},\"type\":\"barpolar\"}],\"bar\":[{\"error_x\":{\"color\":\"#2a3f5f\"},\"error_y\":{\"color\":\"#2a3f5f\"},\"marker\":{\"line\":{\"color\":\"#E5ECF6\",\"width\":0.5},\"pattern\":{\"fillmode\":\"overlay\",\"size\":10,\"solidity\":0.2}},\"type\":\"bar\"}],\"carpet\":[{\"aaxis\":{\"endlinecolor\":\"#2a3f5f\",\"gridcolor\":\"white\",\"linecolor\":\"white\",\"minorgridcolor\":\"white\",\"startlinecolor\":\"#2a3f5f\"},\"baxis\":{\"endlinecolor\":\"#2a3f5f\",\"gridcolor\":\"white\",\"linecolor\":\"white\",\"minorgridcolor\":\"white\",\"startlinecolor\":\"#2a3f5f\"},\"type\":\"carpet\"}],\"choropleth\":[{\"colorbar\":{\"outlinewidth\":0,\"ticks\":\"\"},\"type\":\"choropleth\"}],\"contourcarpet\":[{\"colorbar\":{\"outlinewidth\":0,\"ticks\":\"\"},\"type\":\"contourcarpet\"}],\"contour\":[{\"colorbar\":{\"outlinewidth\":0,\"ticks\":\"\"},\"colorscale\":[[0.0,\"#0d0887\"],[0.1111111111111111,\"#46039f\"],[0.2222222222222222,\"#7201a8\"],[0.3333333333333333,\"#9c179e\"],[0.4444444444444444,\"#bd3786\"],[0.5555555555555556,\"#d8576b\"],[0.6666666666666666,\"#ed7953\"],[0.7777777777777778,\"#fb9f3a\"],[0.8888888888888888,\"#fdca26\"],[1.0,\"#f0f921\"]],\"type\":\"contour\"}],\"heatmapgl\":[{\"colorbar\":{\"outlinewidth\":0,\"ticks\":\"\"},\"colorscale\":[[0.0,\"#0d0887\"],[0.1111111111111111,\"#46039f\"],[0.2222222222222222,\"#7201a8\"],[0.3333333333333333,\"#9c179e\"],[0.4444444444444444,\"#bd3786\"],[0.5555555555555556,\"#d8576b\"],[0.6666666666666666,\"#ed7953\"],[0.7777777777777778,\"#fb9f3a\"],[0.8888888888888888,\"#fdca26\"],[1.0,\"#f0f921\"]],\"type\":\"heatmapgl\"}],\"heatmap\":[{\"colorbar\":{\"outlinewidth\":0,\"ticks\":\"\"},\"colorscale\":[[0.0,\"#0d0887\"],[0.1111111111111111,\"#46039f\"],[0.2222222222222222,\"#7201a8\"],[0.3333333333333333,\"#9c179e\"],[0.4444444444444444,\"#bd3786\"],[0.5555555555555556,\"#d8576b\"],[0.6666666666666666,\"#ed7953\"],[0.7777777777777778,\"#fb9f3a\"],[0.8888888888888888,\"#fdca26\"],[1.0,\"#f0f921\"]],\"type\":\"heatmap\"}],\"histogram2dcontour\":[{\"colorbar\":{\"outlinewidth\":0,\"ticks\":\"\"},\"colorscale\":[[0.0,\"#0d0887\"],[0.1111111111111111,\"#46039f\"],[0.2222222222222222,\"#7201a8\"],[0.3333333333333333,\"#9c179e\"],[0.4444444444444444,\"#bd3786\"],[0.5555555555555556,\"#d8576b\"],[0.6666666666666666,\"#ed7953\"],[0.7777777777777778,\"#fb9f3a\"],[0.8888888888888888,\"#fdca26\"],[1.0,\"#f0f921\"]],\"type\":\"histogram2dcontour\"}],\"histogram2d\":[{\"colorbar\":{\"outlinewidth\":0,\"ticks\":\"\"},\"colorscale\":[[0.0,\"#0d0887\"],[0.1111111111111111,\"#46039f\"],[0.2222222222222222,\"#7201a8\"],[0.3333333333333333,\"#9c179e\"],[0.4444444444444444,\"#bd3786\"],[0.5555555555555556,\"#d8576b\"],[0.6666666666666666,\"#ed7953\"],[0.7777777777777778,\"#fb9f3a\"],[0.8888888888888888,\"#fdca26\"],[1.0,\"#f0f921\"]],\"type\":\"histogram2d\"}],\"histogram\":[{\"marker\":{\"pattern\":{\"fillmode\":\"overlay\",\"size\":10,\"solidity\":0.2}},\"type\":\"histogram\"}],\"mesh3d\":[{\"colorbar\":{\"outlinewidth\":0,\"ticks\":\"\"},\"type\":\"mesh3d\"}],\"parcoords\":[{\"line\":{\"colorbar\":{\"outlinewidth\":0,\"ticks\":\"\"}},\"type\":\"parcoords\"}],\"pie\":[{\"automargin\":true,\"type\":\"pie\"}],\"scatter3d\":[{\"line\":{\"colorbar\":{\"outlinewidth\":0,\"ticks\":\"\"}},\"marker\":{\"colorbar\":{\"outlinewidth\":0,\"ticks\":\"\"}},\"type\":\"scatter3d\"}],\"scattercarpet\":[{\"marker\":{\"colorbar\":{\"outlinewidth\":0,\"ticks\":\"\"}},\"type\":\"scattercarpet\"}],\"scattergeo\":[{\"marker\":{\"colorbar\":{\"outlinewidth\":0,\"ticks\":\"\"}},\"type\":\"scattergeo\"}],\"scattergl\":[{\"marker\":{\"colorbar\":{\"outlinewidth\":0,\"ticks\":\"\"}},\"type\":\"scattergl\"}],\"scattermapbox\":[{\"marker\":{\"colorbar\":{\"outlinewidth\":0,\"ticks\":\"\"}},\"type\":\"scattermapbox\"}],\"scatterpolargl\":[{\"marker\":{\"colorbar\":{\"outlinewidth\":0,\"ticks\":\"\"}},\"type\":\"scatterpolargl\"}],\"scatterpolar\":[{\"marker\":{\"colorbar\":{\"outlinewidth\":0,\"ticks\":\"\"}},\"type\":\"scatterpolar\"}],\"scatter\":[{\"marker\":{\"colorbar\":{\"outlinewidth\":0,\"ticks\":\"\"}},\"type\":\"scatter\"}],\"scatterternary\":[{\"marker\":{\"colorbar\":{\"outlinewidth\":0,\"ticks\":\"\"}},\"type\":\"scatterternary\"}],\"surface\":[{\"colorbar\":{\"outlinewidth\":0,\"ticks\":\"\"},\"colorscale\":[[0.0,\"#0d0887\"],[0.1111111111111111,\"#46039f\"],[0.2222222222222222,\"#7201a8\"],[0.3333333333333333,\"#9c179e\"],[0.4444444444444444,\"#bd3786\"],[0.5555555555555556,\"#d8576b\"],[0.6666666666666666,\"#ed7953\"],[0.7777777777777778,\"#fb9f3a\"],[0.8888888888888888,\"#fdca26\"],[1.0,\"#f0f921\"]],\"type\":\"surface\"}],\"table\":[{\"cells\":{\"fill\":{\"color\":\"#EBF0F8\"},\"line\":{\"color\":\"white\"}},\"header\":{\"fill\":{\"color\":\"#C8D4E3\"},\"line\":{\"color\":\"white\"}},\"type\":\"table\"}]},\"layout\":{\"annotationdefaults\":{\"arrowcolor\":\"#2a3f5f\",\"arrowhead\":0,\"arrowwidth\":1},\"autotypenumbers\":\"strict\",\"coloraxis\":{\"colorbar\":{\"outlinewidth\":0,\"ticks\":\"\"}},\"colorscale\":{\"diverging\":[[0,\"#8e0152\"],[0.1,\"#c51b7d\"],[0.2,\"#de77ae\"],[0.3,\"#f1b6da\"],[0.4,\"#fde0ef\"],[0.5,\"#f7f7f7\"],[0.6,\"#e6f5d0\"],[0.7,\"#b8e186\"],[0.8,\"#7fbc41\"],[0.9,\"#4d9221\"],[1,\"#276419\"]],\"sequential\":[[0.0,\"#0d0887\"],[0.1111111111111111,\"#46039f\"],[0.2222222222222222,\"#7201a8\"],[0.3333333333333333,\"#9c179e\"],[0.4444444444444444,\"#bd3786\"],[0.5555555555555556,\"#d8576b\"],[0.6666666666666666,\"#ed7953\"],[0.7777777777777778,\"#fb9f3a\"],[0.8888888888888888,\"#fdca26\"],[1.0,\"#f0f921\"]],\"sequentialminus\":[[0.0,\"#0d0887\"],[0.1111111111111111,\"#46039f\"],[0.2222222222222222,\"#7201a8\"],[0.3333333333333333,\"#9c179e\"],[0.4444444444444444,\"#bd3786\"],[0.5555555555555556,\"#d8576b\"],[0.6666666666666666,\"#ed7953\"],[0.7777777777777778,\"#fb9f3a\"],[0.8888888888888888,\"#fdca26\"],[1.0,\"#f0f921\"]]},\"colorway\":[\"#636efa\",\"#EF553B\",\"#00cc96\",\"#ab63fa\",\"#FFA15A\",\"#19d3f3\",\"#FF6692\",\"#B6E880\",\"#FF97FF\",\"#FECB52\"],\"font\":{\"color\":\"#2a3f5f\"},\"geo\":{\"bgcolor\":\"white\",\"lakecolor\":\"white\",\"landcolor\":\"#E5ECF6\",\"showlakes\":true,\"showland\":true,\"subunitcolor\":\"white\"},\"hoverlabel\":{\"align\":\"left\"},\"hovermode\":\"closest\",\"mapbox\":{\"style\":\"light\"},\"paper_bgcolor\":\"white\",\"plot_bgcolor\":\"#E5ECF6\",\"polar\":{\"angularaxis\":{\"gridcolor\":\"white\",\"linecolor\":\"white\",\"ticks\":\"\"},\"bgcolor\":\"#E5ECF6\",\"radialaxis\":{\"gridcolor\":\"white\",\"linecolor\":\"white\",\"ticks\":\"\"}},\"scene\":{\"xaxis\":{\"backgroundcolor\":\"#E5ECF6\",\"gridcolor\":\"white\",\"gridwidth\":2,\"linecolor\":\"white\",\"showbackground\":true,\"ticks\":\"\",\"zerolinecolor\":\"white\"},\"yaxis\":{\"backgroundcolor\":\"#E5ECF6\",\"gridcolor\":\"white\",\"gridwidth\":2,\"linecolor\":\"white\",\"showbackground\":true,\"ticks\":\"\",\"zerolinecolor\":\"white\"},\"zaxis\":{\"backgroundcolor\":\"#E5ECF6\",\"gridcolor\":\"white\",\"gridwidth\":2,\"linecolor\":\"white\",\"showbackground\":true,\"ticks\":\"\",\"zerolinecolor\":\"white\"}},\"shapedefaults\":{\"line\":{\"color\":\"#2a3f5f\"}},\"ternary\":{\"aaxis\":{\"gridcolor\":\"white\",\"linecolor\":\"white\",\"ticks\":\"\"},\"baxis\":{\"gridcolor\":\"white\",\"linecolor\":\"white\",\"ticks\":\"\"},\"bgcolor\":\"#E5ECF6\",\"caxis\":{\"gridcolor\":\"white\",\"linecolor\":\"white\",\"ticks\":\"\"}},\"title\":{\"x\":0.05},\"xaxis\":{\"automargin\":true,\"gridcolor\":\"white\",\"linecolor\":\"white\",\"ticks\":\"\",\"title\":{\"standoff\":15},\"zerolinecolor\":\"white\",\"zerolinewidth\":2},\"yaxis\":{\"automargin\":true,\"gridcolor\":\"white\",\"linecolor\":\"white\",\"ticks\":\"\",\"title\":{\"standoff\":15},\"zerolinecolor\":\"white\",\"zerolinewidth\":2}}},\"title\":{\"text\":\"Distribution of class variable in train dataset\"}},                        {\"responsive\": true}                    ).then(function(){\n",
              "                            \n",
              "var gd = document.getElementById('f1b071f1-805b-4b46-ab3f-710653bc3111');\n",
              "var x = new MutationObserver(function (mutations, observer) {{\n",
              "        var display = window.getComputedStyle(gd).display;\n",
              "        if (!display || display === 'none') {{\n",
              "            console.log([gd, 'removed!']);\n",
              "            Plotly.purge(gd);\n",
              "            observer.disconnect();\n",
              "        }}\n",
              "}});\n",
              "\n",
              "// Listen for the removal of the full notebook cells\n",
              "var notebookContainer = gd.closest('#notebook-container');\n",
              "if (notebookContainer) {{\n",
              "    x.observe(notebookContainer, {childList: true});\n",
              "}}\n",
              "\n",
              "// Listen for the clearing of the current output cell\n",
              "var outputEl = gd.closest('.output');\n",
              "if (outputEl) {{\n",
              "    x.observe(outputEl, {childList: true});\n",
              "}}\n",
              "\n",
              "                        })                };                });            </script>        </div>"
            ]
          },
          "metadata": {}
        }
      ]
    },
    {
      "cell_type": "code",
      "source": [
        "print('Train Set - Normal')\n",
        "\n",
        "plt.figure(figsize=(12,12))\n",
        "\n",
        "for i in range(0, 3):\n",
        "    plt.subplot(3,4,i + 1)\n",
        "    img = cv2.imread(train_NORMAL[i])\n",
        "    img = cv2.resize(img, (224,224))\n",
        "    plt.imshow(img)\n",
        "    plt.axis(\"off\")\n",
        "\n",
        "plt.tight_layout()\n",
        "\n",
        "plt.show()\n",
        "\n",
        "\n",
        "print('Train Set - Pneumonia')\n",
        "\n",
        "plt.figure(figsize=(12,12))\n",
        "\n",
        "for i in range(0, 3):\n",
        "    plt.subplot(3,4,i + 1)\n",
        "    img = cv2.imread(train_PNEUMONIA[i])\n",
        "    img = cv2.resize(img, (224,224))\n",
        "    plt.imshow(img)\n",
        "    plt.axis(\"off\")\n",
        "\n",
        "plt.tight_layout()\n",
        "\n",
        "plt.show()"
      ],
      "metadata": {
        "colab": {
          "base_uri": "https://localhost:8080/",
          "height": 485
        },
        "id": "HlBlgxKUGHNx",
        "outputId": "b8c08e96-c046-4426-8c89-b374862f95ec"
      },
      "execution_count": null,
      "outputs": [
        {
          "output_type": "stream",
          "name": "stdout",
          "text": [
            "Train Set - Normal\n"
          ]
        },
        {
          "output_type": "display_data",
          "data": {
            "text/plain": [
              "<Figure size 864x864 with 3 Axes>"
            ],
            "image/png": "[encoded data removed]"
          },
          "metadata": {
            "needs_background": "light"
          }
        },
        {
          "output_type": "stream",
          "name": "stdout",
          "text": [
            "Train Set - Pneumonia\n"
          ]
        },
        {
          "output_type": "display_data",
          "data": {
            "text/plain": [
              "<Figure size 864x864 with 3 Axes>"
            ],
            "image/png": "[encoded data removed]"
          },
          "metadata": {
            "needs_background": "light"
          }
        }
      ]
    },
    {
      "cell_type": "code",
      "source": [
        "X, y = train_test_split(df_train, test_size = 0.40 , stratify = df_train['class'])"
      ],
      "metadata": {
        "id": "8l4ggVGCR5qi"
      },
      "execution_count": null,
      "outputs": []
    },
    {
      "cell_type": "code",
      "source": [
        "#changed target size from (64,64) to (224,224)\n",
        "train_datasets = ImageDataGenerator(rescale=1/255.,\n",
        "                                  zoom_range = 0.2,\n",
        "                                  width_shift_range = 0.2,\n",
        "                                  height_shift_range = 0.2,\n",
        "                                  rotation_range=20,\n",
        "                                  shear_range=0.2,\n",
        "                                  horizontal_flip=True,\n",
        "                                  fill_mode='nearest')\n",
        "\n",
        "val_datasets = ImageDataGenerator(rescale=1/255.)\n",
        "\n",
        "ds_train = train_datasets.flow_from_dataframe(X,\n",
        "                                             x_col = 'image',\n",
        "                                             y_col = 'class',\n",
        "                                             target_size = (224, 224),\n",
        "                                             class_mode = 'binary',\n",
        "                                             batch_size = 32,\n",
        "                                            )\n",
        "\n",
        "ds_val = val_datasets.flow_from_dataframe(y,\n",
        "                                            x_col = 'image',\n",
        "                                            y_col = 'class',\n",
        "                                            target_size = (224, 224),\n",
        "                                            class_mode = 'binary',\n",
        "                                            batch_size = 32,\n",
        "                                          )\n",
        "\n",
        "ds_test = val_datasets.flow_from_dataframe(df_test,\n",
        "                                            x_col = 'image',\n",
        "                                            y_col = 'class',\n",
        "                                            target_size = (224, 224),\n",
        "                                            class_mode = 'binary',\n",
        "                                            batch_size = 1,\n",
        "                                            shuffle = False)"
      ],
      "metadata": {
        "colab": {
          "base_uri": "https://localhost:8080/"
        },
        "id": "W99NKNj_OJuv",
        "outputId": "c9551b4a-ee5b-40f5-d6c5-67916843b3ab"
      },
      "execution_count": null,
      "outputs": [
        {
          "output_type": "stream",
          "name": "stdout",
          "text": [
            "Found 3129 validated image filenames belonging to 2 classes.\n",
            "Found 2087 validated image filenames belonging to 2 classes.\n",
            "Found 624 validated image filenames belonging to 2 classes.\n"
          ]
        }
      ]
    },
    {
      "cell_type": "code",
      "source": [
        "ds_train.class_indices"
      ],
      "metadata": {
        "colab": {
          "base_uri": "https://localhost:8080/"
        },
        "id": "nQDEVJcdQqsV",
        "outputId": "d7fdeaae-1d66-4596-88d0-66dddff46113"
      },
      "execution_count": null,
      "outputs": [
        {
          "output_type": "execute_result",
          "data": {
            "text/plain": [
              "{'Normal': 0, 'Pneumonia': 1}"
            ]
          },
          "metadata": {},
          "execution_count": 14
        }
      ]
    },
    {
      "cell_type": "code",
      "source": [
        "from keras.callbacks import ReduceLROnPlateau\n",
        "from keras.callbacks import EarlyStopping\n",
        "\n",
        "early_stopping = keras.callbacks.EarlyStopping(\n",
        "    monitor='val_loss',\n",
        "    patience=5,\n",
        "    min_delta=1e-7,\n",
        "    restore_best_weights=True,\n",
        ")\n",
        "\n",
        "plateau = keras.callbacks.ReduceLROnPlateau(\n",
        "    monitor='val_loss',\n",
        "    factor = 0.2,                                     \n",
        "    patience = 2,                                   \n",
        "    min_delt = 1e-7,                                \n",
        "    cooldown = 0,                               \n",
        "    verbose = 1\n",
        ") "
      ],
      "metadata": {
        "id": "Sg6SVaGjYhuv"
      },
      "execution_count": null,
      "outputs": []
    },
    {
      "cell_type": "code",
      "source": [
        "model = tf.keras.models.Sequential()\n",
        "model.add(tf.keras.layers.Conv2D(filters=32,kernel_size=(3,3),padding = 'valid',input_shape=(224,224,3)))\n",
        "model.add(tf.keras.layers.Activation('relu'))\n",
        "model.add(tf.keras.layers.Conv2D(filters=32,kernel_size=(3,3),padding = 'valid',activation='relu'))\n",
        "model.add(tf.keras.layers.Activation('relu'))\n",
        "model.add(tf.keras.layers.MaxPool2D(3,3))\n",
        "model.add(tf.keras.layers.Dropout(0.2))\n",
        "\n",
        "\n",
        "model.add(tf.keras.layers.Conv2D(filters=64,kernel_size=(3,3),padding = 'valid',activation='relu'))\n",
        "model.add(tf.keras.layers.Activation('relu'))\n",
        "model.add(tf.keras.layers.Conv2D(filters=128,kernel_size=(3,3),padding = 'valid',activation='relu'))\n",
        "model.add(tf.keras.layers.Activation('relu'))\n",
        "model.add(tf.keras.layers.MaxPool2D(2,2))\n",
        "model.add(tf.keras.layers.Dropout(0.2))\n",
        "\n",
        "model.add(tf.keras.layers.Flatten())\n",
        "model.add(tf.keras.layers.Dense(64,activation='relu'))\n",
        "model.add(tf.keras.layers.Activation('relu'))\n",
        "model.add(tf.keras.layers.Dropout(0.5))\n",
        "model.add(tf.keras.layers.Dense(64,activation='relu'))\n",
        "model.add(tf.keras.layers.Activation('relu'))\n",
        "model.add(tf.keras.layers.Dropout(0.5))\n",
        "model.add(tf.keras.layers.Dense(1,'sigmoid'))\n",
        "model.add(tf.keras.layers.Activation('relu'))\n",
        "\n",
        "precision=keras.metrics.Precision()\n",
        "recall=keras.metrics.Recall()\n",
        "f1score=F1Score(num_classes=2, threshold=0.5)\n",
        "optimizer= tf.keras.optimizers.Adam(learning_rate=0.00003, beta_1=0.9, beta_2=0.99999, decay=10e-7)\n",
        "model.compile(loss = tf.keras.losses.binary_crossentropy,optimizer= tf.keras.optimizers.Adam(learning_rate=0.0003, beta_1=0.9, beta_2=0.99999, decay=10e-7),metrics=['binary_accuracy', precision, recall])\n",
        "model.summary()"
      ],
      "metadata": {
        "colab": {
          "base_uri": "https://localhost:8080/"
        },
        "id": "K8lzoWNWA61C",
        "outputId": "65b50160-9c60-468a-ee86-3043bd37f3d3"
      },
      "execution_count": null,
      "outputs": [
        {
          "output_type": "stream",
          "name": "stdout",
          "text": [
            "Model: \"sequential\"\n",
            "_________________________________________________________________\n",
            " Layer (type)                Output Shape              Param #   \n",
            "=================================================================\n",
            " conv2d (Conv2D)             (None, 222, 222, 32)      896       \n",
            "                                                                 \n",
            " activation (Activation)     (None, 222, 222, 32)      0         \n",
            "                                                                 \n",
            " conv2d_1 (Conv2D)           (None, 220, 220, 32)      9248      \n",
            "                                                                 \n",
            " activation_1 (Activation)   (None, 220, 220, 32)      0         \n",
            "                                                                 \n",
            " max_pooling2d (MaxPooling2D  (None, 73, 73, 32)       0         \n",
            " )                                                               \n",
            "                                                                 \n",
            " dropout (Dropout)           (None, 73, 73, 32)        0         \n",
            "                                                                 \n",
            " conv2d_2 (Conv2D)           (None, 71, 71, 64)        18496     \n",
            "                                                                 \n",
            " activation_2 (Activation)   (None, 71, 71, 64)        0         \n",
            "                                                                 \n",
            " conv2d_3 (Conv2D)           (None, 69, 69, 128)       73856     \n",
            "                                                                 \n",
            " activation_3 (Activation)   (None, 69, 69, 128)       0         \n",
            "                                                                 \n",
            " max_pooling2d_1 (MaxPooling  (None, 34, 34, 128)      0         \n",
            " 2D)                                                             \n",
            "                                                                 \n",
            " dropout_1 (Dropout)         (None, 34, 34, 128)       0         \n",
            "                                                                 \n",
            " flatten (Flatten)           (None, 147968)            0         \n",
            "                                                                 \n",
            " dense (Dense)               (None, 64)                9470016   \n",
            "                                                                 \n",
            " activation_4 (Activation)   (None, 64)                0         \n",
            "                                                                 \n",
            " dropout_2 (Dropout)         (None, 64)                0         \n",
            "                                                                 \n",
            " dense_1 (Dense)             (None, 64)                4160      \n",
            "                                                                 \n",
            " activation_5 (Activation)   (None, 64)                0         \n",
            "                                                                 \n",
            " dropout_3 (Dropout)         (None, 64)                0         \n",
            "                                                                 \n",
            " dense_2 (Dense)             (None, 1)                 65        \n",
            "                                                                 \n",
            " activation_6 (Activation)   (None, 1)                 0         \n",
            "                                                                 \n",
            "=================================================================\n",
            "Total params: 9,576,737\n",
            "Trainable params: 9,576,737\n",
            "Non-trainable params: 0\n",
            "_________________________________________________________________\n"
          ]
        }
      ]
    },
    {
      "cell_type": "code",
      "source": [
        "history = model.fit(ds_train,epochs=10,validation_data=ds_val,callbacks=[early_stopping,plateau],steps_per_epoch=(len(X)/32),validation_steps=2);"
      ],
      "metadata": {
        "colab": {
          "base_uri": "https://localhost:8080/"
        },
        "id": "jxf4pp0bV9s9",
        "outputId": "650f5d94-c924-4289-8dd6-7b8e5f81f8b5"
      },
      "execution_count": null,
      "outputs": [
        {
          "output_type": "stream",
          "name": "stdout",
          "text": [
            "Epoch 1/10\n",
            "97/97 [==============================] - 96s 882ms/step - loss: 0.5448 - binary_accuracy: 0.7245 - precision: 0.7451 - recall: 0.9566 - val_loss: 0.4343 - val_binary_accuracy: 0.8125 - val_precision: 0.8125 - val_recall: 1.0000 - lr: 3.0000e-04\n",
            "Epoch 2/10\n",
            "97/97 [==============================] - 84s 856ms/step - loss: 0.3943 - binary_accuracy: 0.7635 - precision: 0.7730 - recall: 0.9652 - val_loss: 0.3563 - val_binary_accuracy: 0.7656 - val_precision: 0.7619 - val_recall: 1.0000 - lr: 3.0000e-04\n",
            "Epoch 3/10\n",
            "97/97 [==============================] - 83s 851ms/step - loss: 0.3584 - binary_accuracy: 0.8150 - precision: 0.8368 - recall: 0.9329 - val_loss: 0.3457 - val_binary_accuracy: 0.8281 - val_precision: 0.8214 - val_recall: 0.9787 - lr: 3.0000e-04\n",
            "Epoch 4/10\n",
            "97/97 [==============================] - 83s 846ms/step - loss: 0.3437 - binary_accuracy: 0.8450 - precision: 0.8885 - recall: 0.9049 - val_loss: 0.3689 - val_binary_accuracy: 0.9219 - val_precision: 0.9556 - val_recall: 0.9348 - lr: 3.0000e-04\n",
            "Epoch 5/10\n",
            "97/97 [==============================] - 83s 852ms/step - loss: 0.3367 - binary_accuracy: 0.8472 - precision: 0.8979 - recall: 0.8963 - val_loss: 0.2416 - val_binary_accuracy: 0.9219 - val_precision: 0.9767 - val_recall: 0.9130 - lr: 3.0000e-04\n",
            "Epoch 6/10\n",
            "97/97 [==============================] - 82s 842ms/step - loss: 0.3347 - binary_accuracy: 0.8655 - precision: 0.9157 - recall: 0.9019 - val_loss: 0.2550 - val_binary_accuracy: 0.9062 - val_precision: 0.9600 - val_recall: 0.9231 - lr: 3.0000e-04\n",
            "Epoch 7/10\n",
            "98/97 [==============================] - ETA: 0s - loss: 0.2961 - binary_accuracy: 0.8731 - precision: 0.9202 - recall: 0.9080\n",
            "Epoch 7: ReduceLROnPlateau reducing learning rate to 6.000000284984708e-05.\n",
            "97/97 [==============================] - 87s 885ms/step - loss: 0.2961 - binary_accuracy: 0.8731 - precision: 0.9202 - recall: 0.9080 - val_loss: 0.3693 - val_binary_accuracy: 0.8281 - val_precision: 1.0000 - val_recall: 0.7708 - lr: 3.0000e-04\n",
            "Epoch 8/10\n",
            "97/97 [==============================] - 83s 852ms/step - loss: 0.2759 - binary_accuracy: 0.8875 - precision: 0.9426 - recall: 0.9037 - val_loss: 0.2197 - val_binary_accuracy: 0.9375 - val_precision: 1.0000 - val_recall: 0.9111 - lr: 6.0000e-05\n",
            "Epoch 9/10\n",
            "97/97 [==============================] - 83s 845ms/step - loss: 0.2801 - binary_accuracy: 0.8875 - precision: 0.9410 - recall: 0.9054 - val_loss: 0.3205 - val_binary_accuracy: 0.8594 - val_precision: 0.9730 - val_recall: 0.8182 - lr: 6.0000e-05\n",
            "Epoch 10/10\n",
            "97/97 [==============================] - 82s 838ms/step - loss: 0.2689 - binary_accuracy: 0.8853 - precision: 0.9396 - recall: 0.9037 - val_loss: 0.2032 - val_binary_accuracy: 0.9062 - val_precision: 0.9583 - val_recall: 0.9200 - lr: 6.0000e-05\n"
          ]
        }
      ]
    },
    {
      "cell_type": "code",
      "source": [
        "# plotting the loss\n",
        "plt.plot(history.history['loss'],label = 'train_loss')\n",
        "plt.plot(history.history['val_loss'], label = 'testing_loss')\n",
        "plt.title('loss')\n",
        "plt.legend()\n",
        "plt.show()"
      ],
      "metadata": {
        "id": "Kz0hF4Hb0iTJ",
        "colab": {
          "base_uri": "https://localhost:8080/",
          "height": 281
        },
        "outputId": "00ff4505-c7ba-4e8e-e7e3-8e28f8dc7d50"
      },
      "execution_count": null,
      "outputs": [
        {
          "output_type": "display_data",
          "data": {
            "text/plain": [
              "<Figure size 432x288 with 1 Axes>"
            ],
            "image/png": "[encoded data removed]"
          },
          "metadata": {
            "needs_background": "light"
          }
        }
      ]
    },
    {
      "cell_type": "code",
      "source": [
        "# Both Validation and Training accuracy is shown here\n",
        "\n",
        "plt.plot(history.history['binary_accuracy'], label='training_accuracy')\n",
        "plt.plot(history.history['val_binary_accuracy'], label='validation accuracy')\n",
        "plt.title('Accuracy')\n",
        "plt.legend()\n",
        "plt.show()"
      ],
      "metadata": {
        "colab": {
          "base_uri": "https://localhost:8080/",
          "height": 281
        },
        "id": "9EcXouJCAOJO",
        "outputId": "36a49957-53a5-4715-fe11-5f60596276cd"
      },
      "execution_count": null,
      "outputs": [
        {
          "output_type": "display_data",
          "data": {
            "text/plain": [
              "<Figure size 432x288 with 1 Axes>"
            ],
            "image/png": "[encoded data removed]"
          },
          "metadata": {
            "needs_background": "light"
          }
        }
      ]
    },
    {
      "cell_type": "code",
      "source": [
        "score = model.evaluate(ds_val, verbose = 0)\n",
        "\n",
        "print('Test loss:', score[0])\n",
        "print('Test accuracy:', score[1])"
      ],
      "metadata": {
        "id": "hrtHfxVkOG3Z",
        "colab": {
          "base_uri": "https://localhost:8080/"
        },
        "outputId": "e08ec0c9-6a94-4d06-eac0-f8e5dd1a2f64"
      },
      "execution_count": null,
      "outputs": [
        {
          "output_type": "stream",
          "name": "stdout",
          "text": [
            "Test loss: 0.2797296941280365\n",
            "Test accuracy: 0.8797316551208496\n"
          ]
        }
      ]
    },
    {
      "cell_type": "code",
      "source": [
        "score = model.evaluate(ds_test, verbose = 0)\n",
        "\n",
        "print('Test loss:', score[0])\n",
        "print('Test accuracy:', score[1])"
      ],
      "metadata": {
        "id": "CPZmOUurOGt6",
        "colab": {
          "base_uri": "https://localhost:8080/"
        },
        "outputId": "eacb8f93-94bc-49c3-dadb-943e2d4d30d2"
      },
      "execution_count": null,
      "outputs": [
        {
          "output_type": "stream",
          "name": "stdout",
          "text": [
            "Test loss: 0.36332178115844727\n",
            "Test accuracy: 0.8669871687889099\n"
          ]
        }
      ]
    },
    {
      "cell_type": "markdown",
      "source": [
        "  VGG16 MODEL"
      ],
      "metadata": {
        "id": "Mmyncrp7OHWZ"
      }
    },
    {
      "cell_type": "code",
      "source": [
        "from tensorflow.keras.applications.vgg16 import VGG16\n",
        "from tensorflow.keras.applications.vgg16 import preprocess_input\n",
        "from tensorflow.keras.preprocessing import image\n",
        "from tensorflow.keras.preprocessing.image import ImageDataGenerator\n",
        "from tensorflow.keras.models import Sequential\n",
        "from tensorflow.keras.models import Model"
      ],
      "metadata": {
        "id": "rntVLwFdOJrf"
      },
      "execution_count": null,
      "outputs": []
    },
    {
      "cell_type": "code",
      "source": [
        "\n",
        "vgg = VGG16(input_shape = (224,244,3), weights='imagenet', include_top=False)\n",
        "\n",
        "for layer in vgg.layers:\n",
        "    layer.trainable = False\n",
        "    \n",
        "flatten = Flatten()(vgg.output)\n",
        "dense = Dense(200, activation = 'relu')(flatten)\n",
        "dense = Dense(100, activation = 'relu')(dense)\n",
        "prediction = Dense(1, activation = 'sigmoid')(dense)\n",
        "\n",
        "model = Model(inputs = vgg.input, outputs = prediction )\n",
        "\n",
        "model.summary()"
      ],
      "metadata": {
        "id": "FHhirLErPS4e",
        "colab": {
          "base_uri": "https://localhost:8080/"
        },
        "outputId": "0fb2f32a-8db0-4e31-d857-95d19a5b7245"
      },
      "execution_count": null,
      "outputs": [
        {
          "output_type": "stream",
          "name": "stdout",
          "text": [
            "Downloading data from https://storage.googleapis.com/tensorflow/keras-applications/vgg16/vgg16_weights_tf_dim_ordering_tf_kernels_notop.h5\n",
            "58889256/58889256 [==============================] - 2s 0us/step\n",
            "Model: \"model\"\n",
            "_________________________________________________________________\n",
            " Layer (type)                Output Shape              Param #   \n",
            "=================================================================\n",
            " input_1 (InputLayer)        [(None, 224, 244, 3)]     0         \n",
            "                                                                 \n",
            " block1_conv1 (Conv2D)       (None, 224, 244, 64)      1792      \n",
            "                                                                 \n",
            " block1_conv2 (Conv2D)       (None, 224, 244, 64)      36928     \n",
            "                                                                 \n",
            " block1_pool (MaxPooling2D)  (None, 112, 122, 64)      0         \n",
            "                                                                 \n",
            " block2_conv1 (Conv2D)       (None, 112, 122, 128)     73856     \n",
            "                                                                 \n",
            " block2_conv2 (Conv2D)       (None, 112, 122, 128)     147584    \n",
            "                                                                 \n",
            " block2_pool (MaxPooling2D)  (None, 56, 61, 128)       0         \n",
            "                                                                 \n",
            " block3_conv1 (Conv2D)       (None, 56, 61, 256)       295168    \n",
            "                                                                 \n",
            " block3_conv2 (Conv2D)       (None, 56, 61, 256)       590080    \n",
            "                                                                 \n",
            " block3_conv3 (Conv2D)       (None, 56, 61, 256)       590080    \n",
            "                                                                 \n",
            " block3_pool (MaxPooling2D)  (None, 28, 30, 256)       0         \n",
            "                                                                 \n",
            " block4_conv1 (Conv2D)       (None, 28, 30, 512)       1180160   \n",
            "                                                                 \n",
            " block4_conv2 (Conv2D)       (None, 28, 30, 512)       2359808   \n",
            "                                                                 \n",
            " block4_conv3 (Conv2D)       (None, 28, 30, 512)       2359808   \n",
            "                                                                 \n",
            " block4_pool (MaxPooling2D)  (None, 14, 15, 512)       0         \n",
            "                                                                 \n",
            " block5_conv1 (Conv2D)       (None, 14, 15, 512)       2359808   \n",
            "                                                                 \n",
            " block5_conv2 (Conv2D)       (None, 14, 15, 512)       2359808   \n",
            "                                                                 \n",
            " block5_conv3 (Conv2D)       (None, 14, 15, 512)       2359808   \n",
            "                                                                 \n",
            " block5_pool (MaxPooling2D)  (None, 7, 7, 512)         0         \n",
            "                                                                 \n",
            " flatten_1 (Flatten)         (None, 25088)             0         \n",
            "                                                                 \n",
            " dense_3 (Dense)             (None, 200)               5017800   \n",
            "                                                                 \n",
            " dense_4 (Dense)             (None, 100)               20100     \n",
            "                                                                 \n",
            " dense_5 (Dense)             (None, 1)                 101       \n",
            "                                                                 \n",
            "=================================================================\n",
            "Total params: 19,752,689\n",
            "Trainable params: 5,038,001\n",
            "Non-trainable params: 14,714,688\n",
            "_________________________________________________________________\n"
          ]
        }
      ]
    },
    {
      "cell_type": "code",
      "source": [
        "model.compile(loss = tf.keras.losses.binary_crossentropy,optimizer='adam',metrics=['binary_accuracy', precision, recall])\n"
      ],
      "metadata": {
        "id": "qk-OBVOmQKta"
      },
      "execution_count": null,
      "outputs": []
    },
    {
      "cell_type": "code",
      "source": [
        "history = model.fit(ds_train,validation_data=ds_val,batch_size=24,epochs=10);"
      ],
      "metadata": {
        "id": "Jd_ZNhTUQj3k",
        "colab": {
          "base_uri": "https://localhost:8080/"
        },
        "outputId": "0c17452a-f230-4321-95c0-e922107303c8"
      },
      "execution_count": null,
      "outputs": [
        {
          "output_type": "stream",
          "name": "stdout",
          "text": [
            "Epoch 1/10\n",
            "98/98 [==============================] - 126s 1s/step - loss: 0.3275 - binary_accuracy: 0.8645 - precision: 0.9083 - recall: 0.9046 - val_loss: 0.2223 - val_binary_accuracy: 0.9123 - val_precision: 0.9928 - val_recall: 0.8884\n",
            "Epoch 2/10\n",
            "98/98 [==============================] - 119s 1s/step - loss: 0.1761 - binary_accuracy: 0.9294 - precision: 0.9542 - recall: 0.9505 - val_loss: 0.2027 - val_binary_accuracy: 0.9205 - val_precision: 0.9095 - val_recall: 0.9916\n",
            "Epoch 3/10\n",
            "98/98 [==============================] - 124s 1s/step - loss: 0.1683 - binary_accuracy: 0.9310 - precision: 0.9532 - recall: 0.9540 - val_loss: 0.1614 - val_binary_accuracy: 0.9358 - val_precision: 0.9856 - val_recall: 0.9271\n",
            "Epoch 4/10\n",
            "98/98 [==============================] - 124s 1s/step - loss: 0.1623 - binary_accuracy: 0.9383 - precision: 0.9615 - recall: 0.9553 - val_loss: 0.2626 - val_binary_accuracy: 0.8975 - val_precision: 1.0000 - val_recall: 0.8619\n",
            "Epoch 5/10\n",
            "98/98 [==============================] - 124s 1s/step - loss: 0.1310 - binary_accuracy: 0.9537 - precision: 0.9690 - recall: 0.9686 - val_loss: 0.1338 - val_binary_accuracy: 0.9473 - val_precision: 0.9871 - val_recall: 0.9413\n",
            "Epoch 6/10\n",
            "98/98 [==============================] - 118s 1s/step - loss: 0.1448 - binary_accuracy: 0.9428 - precision: 0.9621 - recall: 0.9609 - val_loss: 0.2633 - val_binary_accuracy: 0.9061 - val_precision: 0.9971 - val_recall: 0.8761\n",
            "Epoch 7/10\n",
            "98/98 [==============================] - 118s 1s/step - loss: 0.1356 - binary_accuracy: 0.9457 - precision: 0.9658 - recall: 0.9609 - val_loss: 0.1070 - val_binary_accuracy: 0.9574 - val_precision: 0.9778 - val_recall: 0.9645\n",
            "Epoch 8/10\n",
            "98/98 [==============================] - 117s 1s/step - loss: 0.1222 - binary_accuracy: 0.9495 - precision: 0.9648 - recall: 0.9673 - val_loss: 0.2010 - val_binary_accuracy: 0.9253 - val_precision: 0.9957 - val_recall: 0.9032\n",
            "Epoch 9/10\n",
            "98/98 [==============================] - 117s 1s/step - loss: 0.1175 - binary_accuracy: 0.9604 - precision: 0.9770 - recall: 0.9695 - val_loss: 0.3622 - val_binary_accuracy: 0.8759 - val_precision: 0.9977 - val_recall: 0.8348\n",
            "Epoch 10/10\n",
            "98/98 [==============================] - 117s 1s/step - loss: 0.1402 - binary_accuracy: 0.9431 - precision: 0.9629 - recall: 0.9604 - val_loss: 0.2113 - val_binary_accuracy: 0.9281 - val_precision: 0.9923 - val_recall: 0.9103\n"
          ]
        }
      ]
    },
    {
      "cell_type": "code",
      "source": [
        "# plotting the loss\n",
        "plt.plot(history.history['loss'],label = 'train_loss')\n",
        "plt.plot(history.history['val_loss'], label = 'testing_loss')\n",
        "plt.title('loss')\n",
        "plt.legend()\n",
        "plt.show()"
      ],
      "metadata": {
        "id": "eBtauEvPRLMn",
        "colab": {
          "base_uri": "https://localhost:8080/",
          "height": 281
        },
        "outputId": "5e6423e2-76db-4d1d-a6dd-a7f8b86d30d8"
      },
      "execution_count": null,
      "outputs": [
        {
          "output_type": "display_data",
          "data": {
            "text/plain": [
              "<Figure size 432x288 with 1 Axes>"
            ],
            "image/png": "[encoded data removed]"
          },
          "metadata": {
            "needs_background": "light"
          }
        }
      ]
    },
    {
      "cell_type": "code",
      "source": [
        "# Both Validation and Training accuracy is shown here\n",
        "\n",
        "plt.plot(history.history['binary_accuracy'], label='training_accuracy')\n",
        "plt.plot(history.history['val_binary_accuracy'], label='validation accuracy')\n",
        "plt.title('Accuracy')\n",
        "plt.legend()\n",
        "plt.show()"
      ],
      "metadata": {
        "id": "kB5BkR1OGgWB",
        "colab": {
          "base_uri": "https://localhost:8080/",
          "height": 281
        },
        "outputId": "3bbe0460-38f5-4714-a1ff-1230d871a11b"
      },
      "execution_count": null,
      "outputs": [
        {
          "output_type": "display_data",
          "data": {
            "text/plain": [
              "<Figure size 432x288 with 1 Axes>"
            ],
            "image/png": "[encoded data removed]"
          },
          "metadata": {
            "needs_background": "light"
          }
        }
      ]
    },
    {
      "cell_type": "code",
      "source": [
        "score = model.evaluate(ds_val, verbose = 0)\n",
        "\n",
        "print('Test loss:', score[0])\n",
        "print('Test accuracy:', score[1])"
      ],
      "metadata": {
        "colab": {
          "base_uri": "https://localhost:8080/"
        },
        "id": "oe1hPAQ40v6_",
        "outputId": "809f1dc4-681e-4c71-e472-79ef9d55db5e"
      },
      "execution_count": null,
      "outputs": [
        {
          "output_type": "stream",
          "name": "stdout",
          "text": [
            "Test loss: 0.21128904819488525\n",
            "Test accuracy: 0.9281265139579773\n"
          ]
        }
      ]
    },
    {
      "cell_type": "code",
      "source": [
        "score = model.evaluate(ds_test, verbose = 0)\n",
        "\n",
        "print('Test loss:', score[0])\n",
        "print('Test accuracy:', score[1])"
      ],
      "metadata": {
        "colab": {
          "base_uri": "https://localhost:8080/"
        },
        "id": "T3q9piF406Op",
        "outputId": "f37b02ba-c1d4-47f4-e1bc-ab6b63ed6cbc"
      },
      "execution_count": null,
      "outputs": [
        {
          "output_type": "stream",
          "name": "stdout",
          "text": [
            "Test loss: 0.2594340145587921\n",
            "Test accuracy: 0.9054487347602844\n"
          ]
        }
      ]
    },
    {
      "cell_type": "code",
      "source": [
        "preds_vgg = model.predict(ds_test)\n",
        "y_pred_vgg = np.argmax(preds_vgg, axis =1)"
      ],
      "metadata": {
        "id": "gCbnncVOGjJl",
        "colab": {
          "base_uri": "https://localhost:8080/"
        },
        "outputId": "46b76c9e-8058-49cf-a59b-2b8267012f9c"
      },
      "execution_count": null,
      "outputs": [
        {
          "output_type": "stream",
          "name": "stdout",
          "text": [
            "624/624 [==============================] - 12s 20ms/step\n"
          ]
        }
      ]
    },
    {
      "cell_type": "code",
      "source": [
        "print(classification_report(ds_test.classes, y_pred_vgg))"
      ],
      "metadata": {
        "id": "jNJndZS3GmT6",
        "colab": {
          "base_uri": "https://localhost:8080/"
        },
        "outputId": "45036e7e-d30d-4e29-e65b-6593bedab74f"
      },
      "execution_count": null,
      "outputs": [
        {
          "output_type": "stream",
          "name": "stdout",
          "text": [
            "              precision    recall  f1-score   support\n",
            "\n",
            "           0       0.38      1.00      0.55       234\n",
            "           1       0.00      0.00      0.00       390\n",
            "\n",
            "    accuracy                           0.38       624\n",
            "   macro avg       0.19      0.50      0.27       624\n",
            "weighted avg       0.14      0.38      0.20       624\n",
            "\n"
          ]
        }
      ]
    },
    {
      "cell_type": "code",
      "source": [
        "confusion_matrix_vgg = confusion_matrix(ds_test.classes, y_pred_vgg)\n",
        "plt.figure(figsize=(10, 7))\n",
        "sns.heatmap(confusion_matrix_vgg, annot=True, fmt='g') \n",
        "plt.show()"
      ],
      "metadata": {
        "id": "_gkGcxNDGqd9",
        "colab": {
          "base_uri": "https://localhost:8080/",
          "height": 428
        },
        "outputId": "15a1ddd2-fa76-4800-f692-38737c00eab8"
      },
      "execution_count": null,
      "outputs": [
        {
          "output_type": "display_data",
          "data": {
            "text/plain": [
              "<Figure size 720x504 with 2 Axes>"
            ],
            "image/png": "[encoded data removed]"
          },
          "metadata": {
            "needs_background": "light"
          }
        }
      ]
    },
    {
      "cell_type": "markdown",
      "source": [
        "RESNET50"
      ],
      "metadata": {
        "id": "x9njoe-4zDlx"
      }
    },
    {
      "cell_type": "code",
      "source": [
        "from tensorflow.keras.applications.resnet50 import ResNet50\n",
        "from tensorflow.keras.applications.resnet50 import preprocess_input\n",
        "from tensorflow.keras.preprocessing import image\n",
        "from tensorflow.keras.preprocessing.image import ImageDataGenerator\n",
        "from tensorflow.keras.models import Sequential\n",
        "from tensorflow.keras.models import Model\n",
        "from tensorflow.keras.layers import BatchNormalization"
      ],
      "metadata": {
        "id": "TgfAQvh5zKYz"
      },
      "execution_count": null,
      "outputs": []
    },
    {
      "cell_type": "code",
      "source": [
        "\n",
        "model = tf.keras.models.Sequential()\n",
        "model.add(ResNet50(input_shape=(224,224,3),weights= 'imagenet',include_top=False))\n",
        "model.add(tf.keras.layers.BatchNormalization())\n",
        "model.add(tf.keras.layers.Conv2D(filters=64,kernel_size=(5,5),padding = 'valid',activation='relu'))\n",
        "model.add(tf.keras.layers.Conv2D(filters=64,kernel_size=(3,3),padding = 'valid',activation='relu'))\n",
        "model.add(Flatten())\n",
        "model.add(tf.keras.layers.Dense(64,activation='relu'))\n",
        "model.add(tf.keras.layers.Dense(64,activation='relu'))\n",
        "model.add(tf.keras.layers.Dropout(0.5))\n",
        "model.add(tf.keras.layers.Dense(64,activation='relu'))\n",
        "model.add(tf.keras.layers.Dense(64,activation='relu'))\n",
        "model.add(tf.keras.layers.Dropout(0.5))\n",
        "model.add(tf.keras.layers.Dense(1,'sigmoid'))\n",
        "model.summary()"
      ],
      "metadata": {
        "colab": {
          "base_uri": "https://localhost:8080/"
        },
        "id": "Bb8fNI2f0V6y",
        "outputId": "b410f1fc-edaa-448d-99ce-bf7c03c037fd"
      },
      "execution_count": null,
      "outputs": [
        {
          "output_type": "stream",
          "name": "stdout",
          "text": [
            "Model: \"sequential_10\"\n",
            "_________________________________________________________________\n",
            " Layer (type)                Output Shape              Param #   \n",
            "=================================================================\n",
            " resnet50 (Functional)       (None, 7, 7, 2048)        23587712  \n",
            "                                                                 \n",
            " batch_normalization_3 (Batc  (None, 7, 7, 2048)       8192      \n",
            " hNormalization)                                                 \n",
            "                                                                 \n",
            " conv2d_13 (Conv2D)          (None, 3, 3, 64)          3276864   \n",
            "                                                                 \n",
            " conv2d_14 (Conv2D)          (None, 1, 1, 64)          36928     \n",
            "                                                                 \n",
            " flatten_4 (Flatten)         (None, 64)                0         \n",
            "                                                                 \n",
            " dense_16 (Dense)            (None, 64)                4160      \n",
            "                                                                 \n",
            " dense_17 (Dense)            (None, 64)                4160      \n",
            "                                                                 \n",
            " dropout_8 (Dropout)         (None, 64)                0         \n",
            "                                                                 \n",
            " dense_18 (Dense)            (None, 64)                4160      \n",
            "                                                                 \n",
            " dense_19 (Dense)            (None, 64)                4160      \n",
            "                                                                 \n",
            " dropout_9 (Dropout)         (None, 64)                0         \n",
            "                                                                 \n",
            " dense_20 (Dense)            (None, 1)                 65        \n",
            "                                                                 \n",
            "=================================================================\n",
            "Total params: 26,926,401\n",
            "Trainable params: 26,869,185\n",
            "Non-trainable params: 57,216\n",
            "_________________________________________________________________\n"
          ]
        }
      ]
    },
    {
      "cell_type": "code",
      "source": [
        "model.compile(loss = tf.keras.losses.binary_crossentropy,optimizer='adam',metrics=['binary_accuracy', precision, recall])"
      ],
      "metadata": {
        "id": "cBE5ohP59iwV"
      },
      "execution_count": null,
      "outputs": []
    },
    {
      "cell_type": "code",
      "source": [
        "history = model.fit(ds_train,validation_data=ds_val,batch_size=24,epochs=10);"
      ],
      "metadata": {
        "colab": {
          "base_uri": "https://localhost:8080/"
        },
        "id": "I868lHYn9j-e",
        "outputId": "0a56ea4e-af81-4378-dab1-d2cf37bd4267"
      },
      "execution_count": null,
      "outputs": [
        {
          "output_type": "stream",
          "name": "stdout",
          "text": [
            "Epoch 1/10\n",
            "98/98 [==============================] - 131s 1s/step - loss: 0.4957 - binary_accuracy: 0.8258 - precision: 0.8750 - recall: 0.9072 - val_loss: 6189.5791 - val_binary_accuracy: 0.7427 - val_precision: 0.7427 - val_recall: 1.0000\n",
            "Epoch 2/10\n",
            "98/98 [==============================] - 121s 1s/step - loss: 0.3855 - binary_accuracy: 0.8881 - precision: 0.9255 - recall: 0.9239 - val_loss: 3.6383 - val_binary_accuracy: 0.7427 - val_precision: 0.7427 - val_recall: 1.0000\n",
            "Epoch 3/10\n",
            "98/98 [==============================] - 121s 1s/step - loss: 0.2323 - binary_accuracy: 0.9064 - precision: 0.9500 - recall: 0.9226 - val_loss: 1.5156 - val_binary_accuracy: 0.7427 - val_precision: 0.7427 - val_recall: 1.0000\n",
            "Epoch 4/10\n",
            "98/98 [==============================] - 121s 1s/step - loss: 0.3307 - binary_accuracy: 0.9092 - precision: 0.9578 - recall: 0.9183 - val_loss: 4.3377 - val_binary_accuracy: 0.7427 - val_precision: 0.7427 - val_recall: 1.0000\n",
            "Epoch 5/10\n",
            "98/98 [==============================] - 121s 1s/step - loss: 0.2126 - binary_accuracy: 0.9223 - precision: 0.9594 - recall: 0.9351 - val_loss: 1.8666 - val_binary_accuracy: 0.7427 - val_precision: 0.7427 - val_recall: 1.0000\n",
            "Epoch 6/10\n",
            "98/98 [==============================] - 120s 1s/step - loss: 0.2023 - binary_accuracy: 0.9361 - precision: 0.9550 - recall: 0.9591 - val_loss: 2.6710 - val_binary_accuracy: 0.7427 - val_precision: 0.7427 - val_recall: 1.0000\n",
            "Epoch 7/10\n",
            "98/98 [==============================] - 120s 1s/step - loss: 0.2167 - binary_accuracy: 0.9326 - precision: 0.9624 - recall: 0.9462 - val_loss: 0.6778 - val_binary_accuracy: 0.7427 - val_precision: 0.7427 - val_recall: 1.0000\n",
            "Epoch 8/10\n",
            "98/98 [==============================] - 120s 1s/step - loss: 0.2233 - binary_accuracy: 0.9294 - precision: 0.9566 - recall: 0.9480 - val_loss: 0.4924 - val_binary_accuracy: 0.8093 - val_precision: 0.8025 - val_recall: 0.9858\n",
            "Epoch 9/10\n",
            "98/98 [==============================] - 120s 1s/step - loss: 0.1916 - binary_accuracy: 0.9383 - precision: 0.9603 - recall: 0.9566 - val_loss: 0.9680 - val_binary_accuracy: 0.7595 - val_precision: 0.7554 - val_recall: 1.0000\n",
            "Epoch 10/10\n",
            "98/98 [==============================] - 120s 1s/step - loss: 0.2046 - binary_accuracy: 0.9358 - precision: 0.9666 - recall: 0.9462 - val_loss: 3.0581 - val_binary_accuracy: 0.7427 - val_precision: 0.7427 - val_recall: 1.0000\n"
          ]
        }
      ]
    },
    {
      "cell_type": "code",
      "source": [
        "# plotting the loss\n",
        "plt.plot(history.history['loss'],label = 'train_loss')\n",
        "plt.plot(history.history['val_loss'], label = 'testing_loss')\n",
        "plt.title('loss')\n",
        "plt.legend()\n",
        "plt.show()"
      ],
      "metadata": {
        "colab": {
          "base_uri": "https://localhost:8080/",
          "height": 281
        },
        "id": "kiSGJFhrEnSj",
        "outputId": "4446509a-1ecf-4949-9c2e-8173a6c5c205"
      },
      "execution_count": null,
      "outputs": [
        {
          "output_type": "display_data",
          "data": {
            "text/plain": [
              "<Figure size 432x288 with 1 Axes>"
            ],
            "image/png": "[encoded data removed]"
          },
          "metadata": {
            "needs_background": "light"
          }
        }
      ]
    },
    {
      "cell_type": "code",
      "source": [
        "# Both Validation and Training accuracy is shown here\n",
        "\n",
        "plt.plot(history.history['binary_accuracy'], label='training_accuracy')\n",
        "plt.plot(history.history['val_binary_accuracy'], label='validation accuracy')\n",
        "plt.title('Accuracy')\n",
        "plt.legend()\n",
        "plt.show()"
      ],
      "metadata": {
        "colab": {
          "base_uri": "https://localhost:8080/",
          "height": 281
        },
        "id": "gyuWBYl7EqQl",
        "outputId": "0890f9d3-c42d-49a0-a273-03996a1e445a"
      },
      "execution_count": null,
      "outputs": [
        {
          "output_type": "display_data",
          "data": {
            "text/plain": [
              "<Figure size 432x288 with 1 Axes>"
            ],
            "image/png": "[encoded data removed]"
          },
          "metadata": {
            "needs_background": "light"
          }
        }
      ]
    },
    {
      "cell_type": "code",
      "source": [
        "score = model.evaluate(ds_val, verbose = 0)\n",
        "\n",
        "print('Test loss:', score[0])\n",
        "print('Test accuracy:', score[1])"
      ],
      "metadata": {
        "colab": {
          "base_uri": "https://localhost:8080/"
        },
        "id": "VqL4XdtFE7GT",
        "outputId": "a4deea4e-08a9-4d93-d7f9-ec4e513b8a27"
      },
      "execution_count": null,
      "outputs": [
        {
          "output_type": "stream",
          "name": "stdout",
          "text": [
            "Test loss: 3.058105707168579\n",
            "Test accuracy: 0.7426928877830505\n"
          ]
        }
      ]
    },
    {
      "cell_type": "code",
      "source": [
        "score = model.evaluate(ds_test, verbose = 0)\n",
        "\n",
        "print('Test loss:', score[0])\n",
        "print('Test accuracy:', score[1])"
      ],
      "metadata": {
        "colab": {
          "base_uri": "https://localhost:8080/"
        },
        "id": "aZbxygBTFF1C",
        "outputId": "bfb30288-d1c9-4a88-a21f-b84f778129c7"
      },
      "execution_count": null,
      "outputs": [
        {
          "output_type": "stream",
          "name": "stdout",
          "text": [
            "Test loss: 5.730964660644531\n",
            "Test accuracy: 0.625\n"
          ]
        }
      ]
    },
    {
      "cell_type": "code",
      "source": [
        "preds_resnet = model.predict(ds_test)\n",
        "y_pred_resnet = np.argmax(preds_vgg, axis =1)"
      ],
      "metadata": {
        "colab": {
          "base_uri": "https://localhost:8080/"
        },
        "id": "0ccwa48yFdcS",
        "outputId": "8075d82b-b51c-48d9-c029-a1d2e1186d54"
      },
      "execution_count": null,
      "outputs": [
        {
          "output_type": "stream",
          "name": "stdout",
          "text": [
            "624/624 [==============================] - 15s 22ms/step\n"
          ]
        }
      ]
    },
    {
      "cell_type": "code",
      "source": [
        "print(classification_report(ds_test.classes, y_pred_resnet))"
      ],
      "metadata": {
        "colab": {
          "base_uri": "https://localhost:8080/"
        },
        "id": "QT9_W7NdFxyv",
        "outputId": "12035eac-3e51-4250-adb8-f7e5901d0c23"
      },
      "execution_count": null,
      "outputs": [
        {
          "output_type": "stream",
          "name": "stdout",
          "text": [
            "              precision    recall  f1-score   support\n",
            "\n",
            "           0       0.38      1.00      0.55       234\n",
            "           1       0.00      0.00      0.00       390\n",
            "\n",
            "    accuracy                           0.38       624\n",
            "   macro avg       0.19      0.50      0.27       624\n",
            "weighted avg       0.14      0.38      0.20       624\n",
            "\n"
          ]
        }
      ]
    }
  ]
}